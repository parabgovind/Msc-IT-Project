{
  "nbformat": 4,
  "nbformat_minor": 0,
  "metadata": {
    "colab": {
      "provenance": []
    },
    "kernelspec": {
      "name": "python3",
      "display_name": "Python 3"
    },
    "language_info": {
      "name": "python"
    }
  },
  "cells": [
    {
      "cell_type": "code",
      "execution_count": 1,
      "metadata": {
        "colab": {
          "base_uri": "https://localhost:8080/"
        },
        "id": "xi4w8XWMCyr2",
        "outputId": "c9291d18-d44c-4cce-8af5-8008063cb439"
      },
      "outputs": [
        {
          "output_type": "stream",
          "name": "stdout",
          "text": [
            "Requirement already satisfied: ipython in /usr/local/lib/python3.10/dist-packages (7.34.0)\n",
            "Requirement already satisfied: setuptools>=18.5 in /usr/local/lib/python3.10/dist-packages (from ipython) (67.7.2)\n",
            "Requirement already satisfied: jedi>=0.16 in /usr/local/lib/python3.10/dist-packages (from ipython) (0.19.1)\n",
            "Requirement already satisfied: decorator in /usr/local/lib/python3.10/dist-packages (from ipython) (4.4.2)\n",
            "Requirement already satisfied: pickleshare in /usr/local/lib/python3.10/dist-packages (from ipython) (0.7.5)\n",
            "Requirement already satisfied: traitlets>=4.2 in /usr/local/lib/python3.10/dist-packages (from ipython) (5.7.1)\n",
            "Requirement already satisfied: prompt-toolkit!=3.0.0,!=3.0.1,<3.1.0,>=2.0.0 in /usr/local/lib/python3.10/dist-packages (from ipython) (3.0.43)\n",
            "Requirement already satisfied: pygments in /usr/local/lib/python3.10/dist-packages (from ipython) (2.16.1)\n",
            "Requirement already satisfied: backcall in /usr/local/lib/python3.10/dist-packages (from ipython) (0.2.0)\n",
            "Requirement already satisfied: matplotlib-inline in /usr/local/lib/python3.10/dist-packages (from ipython) (0.1.7)\n",
            "Requirement already satisfied: pexpect>4.3 in /usr/local/lib/python3.10/dist-packages (from ipython) (4.9.0)\n",
            "Requirement already satisfied: parso<0.9.0,>=0.8.3 in /usr/local/lib/python3.10/dist-packages (from jedi>=0.16->ipython) (0.8.4)\n",
            "Requirement already satisfied: ptyprocess>=0.5 in /usr/local/lib/python3.10/dist-packages (from pexpect>4.3->ipython) (0.7.0)\n",
            "Requirement already satisfied: wcwidth in /usr/local/lib/python3.10/dist-packages (from prompt-toolkit!=3.0.0,!=3.0.1,<3.1.0,>=2.0.0->ipython) (0.2.13)\n"
          ]
        }
      ],
      "source": [
        "!pip install ipython"
      ]
    },
    {
      "cell_type": "code",
      "source": [
        "!pip install web3"
      ],
      "metadata": {
        "colab": {
          "base_uri": "https://localhost:8080/"
        },
        "id": "q9tuHqimEX3C",
        "outputId": "c0ec3c19-0091-47e3-9a29-996df1d41307"
      },
      "execution_count": 2,
      "outputs": [
        {
          "output_type": "stream",
          "name": "stdout",
          "text": [
            "Requirement already satisfied: web3 in /usr/local/lib/python3.10/dist-packages (6.18.0)\n",
            "Requirement already satisfied: aiohttp>=3.7.4.post0 in /usr/local/lib/python3.10/dist-packages (from web3) (3.9.5)\n",
            "Requirement already satisfied: eth-abi>=4.0.0 in /usr/local/lib/python3.10/dist-packages (from web3) (5.1.0)\n",
            "Requirement already satisfied: eth-account<0.13,>=0.8.0 in /usr/local/lib/python3.10/dist-packages (from web3) (0.11.2)\n",
            "Requirement already satisfied: eth-hash[pycryptodome]>=0.5.1 in /usr/local/lib/python3.10/dist-packages (from web3) (0.7.0)\n",
            "Requirement already satisfied: eth-typing!=4.2.0,>=3.0.0 in /usr/local/lib/python3.10/dist-packages (from web3) (4.2.2)\n",
            "Requirement already satisfied: eth-utils>=2.1.0 in /usr/local/lib/python3.10/dist-packages (from web3) (4.1.0)\n",
            "Requirement already satisfied: hexbytes<0.4.0,>=0.1.0 in /usr/local/lib/python3.10/dist-packages (from web3) (0.3.1)\n",
            "Requirement already satisfied: jsonschema>=4.0.0 in /usr/local/lib/python3.10/dist-packages (from web3) (4.19.2)\n",
            "Requirement already satisfied: lru-dict<1.3.0,>=1.1.6 in /usr/local/lib/python3.10/dist-packages (from web3) (1.2.0)\n",
            "Requirement already satisfied: protobuf>=4.21.6 in /usr/local/lib/python3.10/dist-packages (from web3) (5.26.1)\n",
            "Requirement already satisfied: requests>=2.16.0 in /usr/local/lib/python3.10/dist-packages (from web3) (2.31.0)\n",
            "Requirement already satisfied: typing-extensions>=4.0.1 in /usr/local/lib/python3.10/dist-packages (from web3) (4.11.0)\n",
            "Requirement already satisfied: websockets>=10.0.0 in /usr/local/lib/python3.10/dist-packages (from web3) (12.0)\n",
            "Requirement already satisfied: pyunormalize>=15.0.0 in /usr/local/lib/python3.10/dist-packages (from web3) (15.1.0)\n",
            "Requirement already satisfied: aiosignal>=1.1.2 in /usr/local/lib/python3.10/dist-packages (from aiohttp>=3.7.4.post0->web3) (1.3.1)\n",
            "Requirement already satisfied: attrs>=17.3.0 in /usr/local/lib/python3.10/dist-packages (from aiohttp>=3.7.4.post0->web3) (23.2.0)\n",
            "Requirement already satisfied: frozenlist>=1.1.1 in /usr/local/lib/python3.10/dist-packages (from aiohttp>=3.7.4.post0->web3) (1.4.1)\n",
            "Requirement already satisfied: multidict<7.0,>=4.5 in /usr/local/lib/python3.10/dist-packages (from aiohttp>=3.7.4.post0->web3) (6.0.5)\n",
            "Requirement already satisfied: yarl<2.0,>=1.0 in /usr/local/lib/python3.10/dist-packages (from aiohttp>=3.7.4.post0->web3) (1.9.4)\n",
            "Requirement already satisfied: async-timeout<5.0,>=4.0 in /usr/local/lib/python3.10/dist-packages (from aiohttp>=3.7.4.post0->web3) (4.0.3)\n",
            "Requirement already satisfied: parsimonious<0.11.0,>=0.10.0 in /usr/local/lib/python3.10/dist-packages (from eth-abi>=4.0.0->web3) (0.10.0)\n",
            "Requirement already satisfied: bitarray>=2.4.0 in /usr/local/lib/python3.10/dist-packages (from eth-account<0.13,>=0.8.0->web3) (2.9.2)\n",
            "Requirement already satisfied: eth-keyfile>=0.6.0 in /usr/local/lib/python3.10/dist-packages (from eth-account<0.13,>=0.8.0->web3) (0.8.1)\n",
            "Requirement already satisfied: eth-keys>=0.4.0 in /usr/local/lib/python3.10/dist-packages (from eth-account<0.13,>=0.8.0->web3) (0.5.1)\n",
            "Requirement already satisfied: eth-rlp>=0.3.0 in /usr/local/lib/python3.10/dist-packages (from eth-account<0.13,>=0.8.0->web3) (1.0.1)\n",
            "Requirement already satisfied: rlp>=1.0.0 in /usr/local/lib/python3.10/dist-packages (from eth-account<0.13,>=0.8.0->web3) (4.0.1)\n",
            "Requirement already satisfied: ckzg>=0.4.3 in /usr/local/lib/python3.10/dist-packages (from eth-account<0.13,>=0.8.0->web3) (1.0.1)\n",
            "Requirement already satisfied: pycryptodome<4,>=3.6.6 in /usr/local/lib/python3.10/dist-packages (from eth-hash[pycryptodome]>=0.5.1->web3) (3.20.0)\n",
            "Requirement already satisfied: cytoolz>=0.10.1 in /usr/local/lib/python3.10/dist-packages (from eth-utils>=2.1.0->web3) (0.12.3)\n",
            "Requirement already satisfied: jsonschema-specifications>=2023.03.6 in /usr/local/lib/python3.10/dist-packages (from jsonschema>=4.0.0->web3) (2023.12.1)\n",
            "Requirement already satisfied: referencing>=0.28.4 in /usr/local/lib/python3.10/dist-packages (from jsonschema>=4.0.0->web3) (0.34.0)\n",
            "Requirement already satisfied: rpds-py>=0.7.1 in /usr/local/lib/python3.10/dist-packages (from jsonschema>=4.0.0->web3) (0.18.0)\n",
            "Requirement already satisfied: charset-normalizer<4,>=2 in /usr/local/lib/python3.10/dist-packages (from requests>=2.16.0->web3) (3.3.2)\n",
            "Requirement already satisfied: idna<4,>=2.5 in /usr/local/lib/python3.10/dist-packages (from requests>=2.16.0->web3) (3.7)\n",
            "Requirement already satisfied: urllib3<3,>=1.21.1 in /usr/local/lib/python3.10/dist-packages (from requests>=2.16.0->web3) (2.0.7)\n",
            "Requirement already satisfied: certifi>=2017.4.17 in /usr/local/lib/python3.10/dist-packages (from requests>=2.16.0->web3) (2024.2.2)\n",
            "Requirement already satisfied: toolz>=0.8.0 in /usr/local/lib/python3.10/dist-packages (from cytoolz>=0.10.1->eth-utils>=2.1.0->web3) (0.12.1)\n",
            "Requirement already satisfied: regex>=2022.3.15 in /usr/local/lib/python3.10/dist-packages (from parsimonious<0.11.0,>=0.10.0->eth-abi>=4.0.0->web3) (2023.12.25)\n"
          ]
        }
      ]
    },
    {
      "cell_type": "code",
      "source": [
        "!pip install \"web3[tester]\""
      ],
      "metadata": {
        "colab": {
          "base_uri": "https://localhost:8080/"
        },
        "id": "4o1dY5HoEhbA",
        "outputId": "1f57b73d-1cd2-4d82-ebab-8bacae38b780"
      },
      "execution_count": 3,
      "outputs": [
        {
          "output_type": "stream",
          "name": "stdout",
          "text": [
            "Requirement already satisfied: web3[tester] in /usr/local/lib/python3.10/dist-packages (6.18.0)\n",
            "Requirement already satisfied: aiohttp>=3.7.4.post0 in /usr/local/lib/python3.10/dist-packages (from web3[tester]) (3.9.5)\n",
            "Requirement already satisfied: eth-abi>=4.0.0 in /usr/local/lib/python3.10/dist-packages (from web3[tester]) (5.1.0)\n",
            "Requirement already satisfied: eth-account<0.13,>=0.8.0 in /usr/local/lib/python3.10/dist-packages (from web3[tester]) (0.11.2)\n",
            "Requirement already satisfied: eth-hash[pycryptodome]>=0.5.1 in /usr/local/lib/python3.10/dist-packages (from web3[tester]) (0.7.0)\n",
            "Requirement already satisfied: eth-typing!=4.2.0,>=3.0.0 in /usr/local/lib/python3.10/dist-packages (from web3[tester]) (4.2.2)\n",
            "Requirement already satisfied: eth-utils>=2.1.0 in /usr/local/lib/python3.10/dist-packages (from web3[tester]) (4.1.0)\n",
            "Requirement already satisfied: hexbytes<0.4.0,>=0.1.0 in /usr/local/lib/python3.10/dist-packages (from web3[tester]) (0.3.1)\n",
            "Requirement already satisfied: jsonschema>=4.0.0 in /usr/local/lib/python3.10/dist-packages (from web3[tester]) (4.19.2)\n",
            "Requirement already satisfied: lru-dict<1.3.0,>=1.1.6 in /usr/local/lib/python3.10/dist-packages (from web3[tester]) (1.2.0)\n",
            "Requirement already satisfied: protobuf>=4.21.6 in /usr/local/lib/python3.10/dist-packages (from web3[tester]) (5.26.1)\n",
            "Requirement already satisfied: requests>=2.16.0 in /usr/local/lib/python3.10/dist-packages (from web3[tester]) (2.31.0)\n",
            "Requirement already satisfied: typing-extensions>=4.0.1 in /usr/local/lib/python3.10/dist-packages (from web3[tester]) (4.11.0)\n",
            "Requirement already satisfied: websockets>=10.0.0 in /usr/local/lib/python3.10/dist-packages (from web3[tester]) (12.0)\n",
            "Requirement already satisfied: pyunormalize>=15.0.0 in /usr/local/lib/python3.10/dist-packages (from web3[tester]) (15.1.0)\n",
            "Requirement already satisfied: py-geth>=3.14.0 in /usr/local/lib/python3.10/dist-packages (from web3[tester]) (4.4.0)\n",
            "Requirement already satisfied: eth-tester[py-evm]<0.12.0b1,>=0.11.0b1 in /usr/local/lib/python3.10/dist-packages (from web3[tester]) (0.11.0b2)\n",
            "Requirement already satisfied: aiosignal>=1.1.2 in /usr/local/lib/python3.10/dist-packages (from aiohttp>=3.7.4.post0->web3[tester]) (1.3.1)\n",
            "Requirement already satisfied: attrs>=17.3.0 in /usr/local/lib/python3.10/dist-packages (from aiohttp>=3.7.4.post0->web3[tester]) (23.2.0)\n",
            "Requirement already satisfied: frozenlist>=1.1.1 in /usr/local/lib/python3.10/dist-packages (from aiohttp>=3.7.4.post0->web3[tester]) (1.4.1)\n",
            "Requirement already satisfied: multidict<7.0,>=4.5 in /usr/local/lib/python3.10/dist-packages (from aiohttp>=3.7.4.post0->web3[tester]) (6.0.5)\n",
            "Requirement already satisfied: yarl<2.0,>=1.0 in /usr/local/lib/python3.10/dist-packages (from aiohttp>=3.7.4.post0->web3[tester]) (1.9.4)\n",
            "Requirement already satisfied: async-timeout<5.0,>=4.0 in /usr/local/lib/python3.10/dist-packages (from aiohttp>=3.7.4.post0->web3[tester]) (4.0.3)\n",
            "Requirement already satisfied: parsimonious<0.11.0,>=0.10.0 in /usr/local/lib/python3.10/dist-packages (from eth-abi>=4.0.0->web3[tester]) (0.10.0)\n",
            "Requirement already satisfied: bitarray>=2.4.0 in /usr/local/lib/python3.10/dist-packages (from eth-account<0.13,>=0.8.0->web3[tester]) (2.9.2)\n",
            "Requirement already satisfied: eth-keyfile>=0.6.0 in /usr/local/lib/python3.10/dist-packages (from eth-account<0.13,>=0.8.0->web3[tester]) (0.8.1)\n",
            "Requirement already satisfied: eth-keys>=0.4.0 in /usr/local/lib/python3.10/dist-packages (from eth-account<0.13,>=0.8.0->web3[tester]) (0.5.1)\n",
            "Requirement already satisfied: eth-rlp>=0.3.0 in /usr/local/lib/python3.10/dist-packages (from eth-account<0.13,>=0.8.0->web3[tester]) (1.0.1)\n",
            "Requirement already satisfied: rlp>=1.0.0 in /usr/local/lib/python3.10/dist-packages (from eth-account<0.13,>=0.8.0->web3[tester]) (4.0.1)\n",
            "Requirement already satisfied: ckzg>=0.4.3 in /usr/local/lib/python3.10/dist-packages (from eth-account<0.13,>=0.8.0->web3[tester]) (1.0.1)\n",
            "Requirement already satisfied: pycryptodome<4,>=3.6.6 in /usr/local/lib/python3.10/dist-packages (from eth-hash[pycryptodome]>=0.5.1->web3[tester]) (3.20.0)\n",
            "Requirement already satisfied: semantic-version>=2.6.0 in /usr/local/lib/python3.10/dist-packages (from eth-tester[py-evm]<0.12.0b1,>=0.11.0b1->web3[tester]) (2.10.0)\n",
            "Requirement already satisfied: py-evm<0.11.0b0,>=0.10.0b0 in /usr/local/lib/python3.10/dist-packages (from eth-tester[py-evm]<0.12.0b1,>=0.11.0b1->web3[tester]) (0.10.1b1)\n",
            "Requirement already satisfied: cytoolz>=0.10.1 in /usr/local/lib/python3.10/dist-packages (from eth-utils>=2.1.0->web3[tester]) (0.12.3)\n",
            "Requirement already satisfied: jsonschema-specifications>=2023.03.6 in /usr/local/lib/python3.10/dist-packages (from jsonschema>=4.0.0->web3[tester]) (2023.12.1)\n",
            "Requirement already satisfied: referencing>=0.28.4 in /usr/local/lib/python3.10/dist-packages (from jsonschema>=4.0.0->web3[tester]) (0.34.0)\n",
            "Requirement already satisfied: rpds-py>=0.7.1 in /usr/local/lib/python3.10/dist-packages (from jsonschema>=4.0.0->web3[tester]) (0.18.0)\n",
            "Requirement already satisfied: charset-normalizer<4,>=2 in /usr/local/lib/python3.10/dist-packages (from requests>=2.16.0->web3[tester]) (3.3.2)\n",
            "Requirement already satisfied: idna<4,>=2.5 in /usr/local/lib/python3.10/dist-packages (from requests>=2.16.0->web3[tester]) (3.7)\n",
            "Requirement already satisfied: urllib3<3,>=1.21.1 in /usr/local/lib/python3.10/dist-packages (from requests>=2.16.0->web3[tester]) (2.0.7)\n",
            "Requirement already satisfied: certifi>=2017.4.17 in /usr/local/lib/python3.10/dist-packages (from requests>=2.16.0->web3[tester]) (2024.2.2)\n",
            "Requirement already satisfied: toolz>=0.8.0 in /usr/local/lib/python3.10/dist-packages (from cytoolz>=0.10.1->eth-utils>=2.1.0->web3[tester]) (0.12.1)\n",
            "Requirement already satisfied: safe-pysha3>=1.0.0 in /usr/local/lib/python3.10/dist-packages (from eth-hash[pycryptodome]>=0.5.1->web3[tester]) (1.0.4)\n",
            "Requirement already satisfied: regex>=2022.3.15 in /usr/local/lib/python3.10/dist-packages (from parsimonious<0.11.0,>=0.10.0->eth-abi>=4.0.0->web3[tester]) (2023.12.25)\n",
            "Requirement already satisfied: cached-property>=1.5.1 in /usr/local/lib/python3.10/dist-packages (from py-evm<0.11.0b0,>=0.10.0b0->eth-tester[py-evm]<0.12.0b1,>=0.11.0b1->web3[tester]) (1.5.2)\n",
            "Requirement already satisfied: eth-bloom>=1.0.3 in /usr/local/lib/python3.10/dist-packages (from py-evm<0.11.0b0,>=0.10.0b0->eth-tester[py-evm]<0.12.0b1,>=0.11.0b1->web3[tester]) (3.0.1)\n",
            "Requirement already satisfied: py-ecc>=1.4.7 in /usr/local/lib/python3.10/dist-packages (from py-evm<0.11.0b0,>=0.10.0b0->eth-tester[py-evm]<0.12.0b1,>=0.11.0b1->web3[tester]) (7.0.1)\n",
            "Requirement already satisfied: trie>=2.0.0 in /usr/local/lib/python3.10/dist-packages (from py-evm<0.11.0b0,>=0.10.0b0->eth-tester[py-evm]<0.12.0b1,>=0.11.0b1->web3[tester]) (3.0.1)\n",
            "Requirement already satisfied: sortedcontainers>=2.1.0 in /usr/local/lib/python3.10/dist-packages (from trie>=2.0.0->py-evm<0.11.0b0,>=0.10.0b0->eth-tester[py-evm]<0.12.0b1,>=0.11.0b1->web3[tester]) (2.4.0)\n"
          ]
        }
      ]
    },
    {
      "cell_type": "code",
      "source": [
        "from web3 import Web3"
      ],
      "metadata": {
        "colab": {
          "base_uri": "https://localhost:8080/"
        },
        "id": "4rR6Jj-XE_VR",
        "outputId": "29e55ccc-cb6c-4b03-b950-13791173e92a"
      },
      "execution_count": 4,
      "outputs": [
        {
          "output_type": "stream",
          "name": "stderr",
          "text": [
            "/usr/local/lib/python3.10/dist-packages/eth_utils/network.py:61: UserWarning: Network 345 with name 'Yooldo Verse Mainnet' does not have a valid ChainId. eth-typing should be updated with the latest networks.\n",
            "  networks = initialize_network_objects()\n",
            "/usr/local/lib/python3.10/dist-packages/eth_utils/network.py:61: UserWarning: Network 12611 with name 'Astar zkEVM' does not have a valid ChainId. eth-typing should be updated with the latest networks.\n",
            "  networks = initialize_network_objects()\n"
          ]
        }
      ]
    },
    {
      "cell_type": "code",
      "source": [
        "w3 = Web3(Web3.EthereumTesterProvider())"
      ],
      "metadata": {
        "colab": {
          "base_uri": "https://localhost:8080/"
        },
        "id": "P8Xm862_FMAr",
        "outputId": "00347c4a-8107-4bdf-d0f8-0f858ad78200"
      },
      "execution_count": 5,
      "outputs": [
        {
          "output_type": "stream",
          "name": "stderr",
          "text": [
            "<frozen importlib._bootstrap>:914: ImportWarning: _PyDrive2ImportHook.find_spec() not found; falling back to find_module()\n",
            "<frozen importlib._bootstrap>:914: ImportWarning: _PyDriveImportHook.find_spec() not found; falling back to find_module()\n",
            "<frozen importlib._bootstrap>:914: ImportWarning: _GenerativeAIImportHook.find_spec() not found; falling back to find_module()\n",
            "<frozen importlib._bootstrap>:914: ImportWarning: _OpenCVImportHook.find_spec() not found; falling back to find_module()\n",
            "<frozen importlib._bootstrap>:914: ImportWarning: APICoreClientInfoImportHook.find_spec() not found; falling back to find_module()\n",
            "<frozen importlib._bootstrap>:914: ImportWarning: _BokehImportHook.find_spec() not found; falling back to find_module()\n",
            "<frozen importlib._bootstrap>:914: ImportWarning: _AltairImportHook.find_spec() not found; falling back to find_module()\n"
          ]
        }
      ]
    },
    {
      "cell_type": "code",
      "source": [
        "w3.is_connected()"
      ],
      "metadata": {
        "colab": {
          "base_uri": "https://localhost:8080/"
        },
        "id": "N8nFxznWFQxy",
        "outputId": "ca9bd4c2-e748-42bf-ec49-ed6e9ca26f12"
      },
      "execution_count": 6,
      "outputs": [
        {
          "output_type": "stream",
          "name": "stderr",
          "text": [
            "/usr/local/lib/python3.10/dist-packages/ipykernel/ipkernel.py:283: DeprecationWarning: `should_run_async` will not call `transform_cell` automatically in the future. Please pass the result to `transformed_cell` argument and any exception that happen during thetransform in `preprocessing_exc_tuple` in IPython 7.17 and above.\n",
            "  and should_run_async(code)\n"
          ]
        },
        {
          "output_type": "execute_result",
          "data": {
            "text/plain": [
              "True"
            ]
          },
          "metadata": {},
          "execution_count": 6
        }
      ]
    },
    {
      "cell_type": "code",
      "source": [
        "w3.eth.accounts"
      ],
      "metadata": {
        "colab": {
          "base_uri": "https://localhost:8080/"
        },
        "id": "tGY49t5FFTvU",
        "outputId": "cbe606b8-bcdb-45ad-8a57-07bb5e48a4e4"
      },
      "execution_count": 7,
      "outputs": [
        {
          "output_type": "execute_result",
          "data": {
            "text/plain": [
              "['0x7E5F4552091A69125d5DfCb7b8C2659029395Bdf',\n",
              " '0x2B5AD5c4795c026514f8317c7a215E218DcCD6cF',\n",
              " '0x6813Eb9362372EEF6200f3b1dbC3f819671cBA69',\n",
              " '0x1efF47bc3a10a45D4B230B5d10E37751FE6AA718',\n",
              " '0xe1AB8145F7E55DC933d51a18c793F901A3A0b276',\n",
              " '0xE57bFE9F44b819898F47BF37E5AF72a0783e1141',\n",
              " '0xd41c057fd1c78805AAC12B0A94a405c0461A6FBb',\n",
              " '0xF1F6619B38A98d6De0800F1DefC0a6399eB6d30C',\n",
              " '0xF7Edc8FA1eCc32967F827C9043FcAe6ba73afA5c',\n",
              " '0x4CCeBa2d7D2B4fdcE4304d3e09a1fea9fbEb1528']"
            ]
          },
          "metadata": {},
          "execution_count": 7
        }
      ]
    },
    {
      "cell_type": "code",
      "source": [
        "w3.eth.get_balance(w3.eth.accounts[0])"
      ],
      "metadata": {
        "colab": {
          "base_uri": "https://localhost:8080/"
        },
        "id": "w_nqnWepFXwk",
        "outputId": "fdc6fd07-c678-4d20-f490-ba26d98f133c"
      },
      "execution_count": 8,
      "outputs": [
        {
          "output_type": "execute_result",
          "data": {
            "text/plain": [
              "1000000000000000000000000"
            ]
          },
          "metadata": {},
          "execution_count": 8
        }
      ]
    },
    {
      "cell_type": "code",
      "source": [
        "w3.eth.get_block('latest')"
      ],
      "metadata": {
        "colab": {
          "base_uri": "https://localhost:8080/"
        },
        "id": "A7HtRC5QFnMy",
        "outputId": "4266823d-6a52-4b46-ed3f-5351a83552a3"
      },
      "execution_count": 9,
      "outputs": [
        {
          "output_type": "execute_result",
          "data": {
            "text/plain": [
              "AttributeDict({'number': 0,\n",
              " 'hash': HexBytes('0x5878d9fb302fc77f5c2a7668ea2ecda60691cec0cdc784c0b77b02ebbeef286e'),\n",
              " 'parentHash': HexBytes('0x0000000000000000000000000000000000000000000000000000000000000000'),\n",
              " 'nonce': HexBytes('0x0000000000000000'),\n",
              " 'sha3Uncles': HexBytes('0x1dcc4de8dec75d7aab85b567b6ccd41ad312451b948a7413f0a142fd40d49347'),\n",
              " 'logsBloom': HexBytes('0x00'),\n",
              " 'transactionsRoot': HexBytes('0x56e81f171bcc55a6ff8345e692c0f86e5b48e01b996cadc001622fb5e363b421'),\n",
              " 'receiptsRoot': HexBytes('0x56e81f171bcc55a6ff8345e692c0f86e5b48e01b996cadc001622fb5e363b421'),\n",
              " 'stateRoot': HexBytes('0xf1588db9a9f1ed91effabdec31f93cb4212b008c8b8ba047fd55fabebf6fd727'),\n",
              " 'miner': '0x0000000000000000000000000000000000000000',\n",
              " 'difficulty': 0,\n",
              " 'totalDifficulty': 0,\n",
              " 'mixHash': HexBytes('0x0000000000000000000000000000000000000000000000000000000000000000'),\n",
              " 'size': 583,\n",
              " 'extraData': HexBytes('0x0000000000000000000000000000000000000000000000000000000000000000'),\n",
              " 'gasLimit': 30029122,\n",
              " 'gasUsed': 0,\n",
              " 'timestamp': 1714481042,\n",
              " 'transactions': [],\n",
              " 'uncles': [],\n",
              " 'baseFeePerGas': 1000000000,\n",
              " 'withdrawals': [],\n",
              " 'withdrawalsRoot': HexBytes('0x56e81f171bcc55a6ff8345e692c0f86e5b48e01b996cadc001622fb5e363b421'),\n",
              " 'parentBeaconBlockRoot': HexBytes('0x56e81f171bcc55a6ff8345e692c0f86e5b48e01b996cadc001622fb5e363b421'),\n",
              " 'blobGasUsed': 0,\n",
              " 'excessBlobGas': 0})"
            ]
          },
          "metadata": {},
          "execution_count": 9
        }
      ]
    },
    {
      "cell_type": "code",
      "source": [
        "w3.eth.block_number"
      ],
      "metadata": {
        "colab": {
          "base_uri": "https://localhost:8080/"
        },
        "id": "nQZaBB4pAtK1",
        "outputId": "528c9f38-8bed-48c0-cd33-09066e2c4af3"
      },
      "execution_count": 10,
      "outputs": [
        {
          "output_type": "execute_result",
          "data": {
            "text/plain": [
              "0"
            ]
          },
          "metadata": {},
          "execution_count": 10
        }
      ]
    },
    {
      "cell_type": "code",
      "source": [
        "w3.eth.chain_id"
      ],
      "metadata": {
        "colab": {
          "base_uri": "https://localhost:8080/"
        },
        "id": "sbd2Z1ohA28u",
        "outputId": "8abf8bfe-dfb8-4da2-8e9c-a73ee6359d5f"
      },
      "execution_count": 11,
      "outputs": [
        {
          "output_type": "execute_result",
          "data": {
            "text/plain": [
              "131277322940537"
            ]
          },
          "metadata": {},
          "execution_count": 11
        }
      ]
    }
  ]
}