{
  "nbformat": 4,
  "nbformat_minor": 0,
  "metadata": {
    "colab": {
      "provenance": []
    },
    "kernelspec": {
      "name": "python3",
      "display_name": "Python 3"
    },
    "language_info": {
      "name": "python"
    }
  },
  "cells": [
    {
      "cell_type": "code",
      "execution_count": 1,
      "metadata": {
        "colab": {
          "base_uri": "https://localhost:8080/"
        },
        "id": "k5BBXvB65q3Z",
        "outputId": "8260389c-b50d-4566-9a74-7361e33c8555"
      },
      "outputs": [
        {
          "output_type": "stream",
          "name": "stdout",
          "text": [
            "Requirement already satisfied: ipython in /usr/local/lib/python3.10/dist-packages (7.34.0)\n",
            "Requirement already satisfied: setuptools>=18.5 in /usr/local/lib/python3.10/dist-packages (from ipython) (67.7.2)\n",
            "Collecting jedi>=0.16 (from ipython)\n",
            "  Downloading jedi-0.19.1-py2.py3-none-any.whl (1.6 MB)\n",
            "\u001b[2K     \u001b[90m━━━━━━━━━━━━━━━━━━━━━━━━━━━━━━━━━━━━━━━━\u001b[0m \u001b[32m1.6/1.6 MB\u001b[0m \u001b[31m6.6 MB/s\u001b[0m eta \u001b[36m0:00:00\u001b[0m\n",
            "\u001b[?25hRequirement already satisfied: decorator in /usr/local/lib/python3.10/dist-packages (from ipython) (4.4.2)\n",
            "Requirement already satisfied: pickleshare in /usr/local/lib/python3.10/dist-packages (from ipython) (0.7.5)\n",
            "Requirement already satisfied: traitlets>=4.2 in /usr/local/lib/python3.10/dist-packages (from ipython) (5.7.1)\n",
            "Requirement already satisfied: prompt-toolkit!=3.0.0,!=3.0.1,<3.1.0,>=2.0.0 in /usr/local/lib/python3.10/dist-packages (from ipython) (3.0.43)\n",
            "Requirement already satisfied: pygments in /usr/local/lib/python3.10/dist-packages (from ipython) (2.16.1)\n",
            "Requirement already satisfied: backcall in /usr/local/lib/python3.10/dist-packages (from ipython) (0.2.0)\n",
            "Requirement already satisfied: matplotlib-inline in /usr/local/lib/python3.10/dist-packages (from ipython) (0.1.7)\n",
            "Requirement already satisfied: pexpect>4.3 in /usr/local/lib/python3.10/dist-packages (from ipython) (4.9.0)\n",
            "Requirement already satisfied: parso<0.9.0,>=0.8.3 in /usr/local/lib/python3.10/dist-packages (from jedi>=0.16->ipython) (0.8.4)\n",
            "Requirement already satisfied: ptyprocess>=0.5 in /usr/local/lib/python3.10/dist-packages (from pexpect>4.3->ipython) (0.7.0)\n",
            "Requirement already satisfied: wcwidth in /usr/local/lib/python3.10/dist-packages (from prompt-toolkit!=3.0.0,!=3.0.1,<3.1.0,>=2.0.0->ipython) (0.2.13)\n",
            "Installing collected packages: jedi\n",
            "Successfully installed jedi-0.19.1\n"
          ]
        }
      ],
      "source": [
        "!pip install ipython"
      ]
    },
    {
      "cell_type": "code",
      "source": [
        "!pip install web3"
      ],
      "metadata": {
        "colab": {
          "base_uri": "https://localhost:8080/"
        },
        "id": "sbDnTuxq5tIF",
        "outputId": "f7a24e0d-e108-4c85-b153-7ce16086410d"
      },
      "execution_count": 2,
      "outputs": [
        {
          "output_type": "stream",
          "name": "stdout",
          "text": [
            "Collecting web3\n",
            "  Downloading web3-6.18.0-py3-none-any.whl (1.6 MB)\n",
            "\u001b[2K     \u001b[90m━━━━━━━━━━━━━━━━━━━━━━━━━━━━━━━━━━━━━━━━\u001b[0m \u001b[32m1.6/1.6 MB\u001b[0m \u001b[31m14.9 MB/s\u001b[0m eta \u001b[36m0:00:00\u001b[0m\n",
            "\u001b[?25hRequirement already satisfied: aiohttp>=3.7.4.post0 in /usr/local/lib/python3.10/dist-packages (from web3) (3.9.5)\n",
            "Collecting eth-abi>=4.0.0 (from web3)\n",
            "  Downloading eth_abi-5.1.0-py3-none-any.whl (29 kB)\n",
            "Collecting eth-account<0.13,>=0.8.0 (from web3)\n",
            "  Downloading eth_account-0.12.2-py3-none-any.whl (355 kB)\n",
            "\u001b[2K     \u001b[90m━━━━━━━━━━━━━━━━━━━━━━━━━━━━━━━━━━━━━━━━\u001b[0m \u001b[32m355.7/355.7 kB\u001b[0m \u001b[31m33.7 MB/s\u001b[0m eta \u001b[36m0:00:00\u001b[0m\n",
            "\u001b[?25hCollecting eth-hash[pycryptodome]>=0.5.1 (from web3)\n",
            "  Downloading eth_hash-0.7.0-py3-none-any.whl (8.7 kB)\n",
            "Collecting eth-typing!=4.2.0,>=3.0.0 (from web3)\n",
            "  Downloading eth_typing-4.2.2-py3-none-any.whl (18 kB)\n",
            "Collecting eth-utils>=2.1.0 (from web3)\n",
            "  Downloading eth_utils-4.1.0-py3-none-any.whl (77 kB)\n",
            "\u001b[2K     \u001b[90m━━━━━━━━━━━━━━━━━━━━━━━━━━━━━━━━━━━━━━━━\u001b[0m \u001b[32m77.7/77.7 kB\u001b[0m \u001b[31m10.8 MB/s\u001b[0m eta \u001b[36m0:00:00\u001b[0m\n",
            "\u001b[?25hCollecting hexbytes<0.4.0,>=0.1.0 (from web3)\n",
            "  Downloading hexbytes-0.3.1-py3-none-any.whl (5.9 kB)\n",
            "Requirement already satisfied: jsonschema>=4.0.0 in /usr/local/lib/python3.10/dist-packages (from web3) (4.19.2)\n",
            "Collecting lru-dict<1.3.0,>=1.1.6 (from web3)\n",
            "  Downloading lru_dict-1.2.0-cp310-cp310-manylinux_2_5_x86_64.manylinux1_x86_64.manylinux_2_17_x86_64.manylinux2014_x86_64.whl (28 kB)\n",
            "Collecting protobuf>=4.21.6 (from web3)\n",
            "  Downloading protobuf-5.26.1-cp37-abi3-manylinux2014_x86_64.whl (302 kB)\n",
            "\u001b[2K     \u001b[90m━━━━━━━━━━━━━━━━━━━━━━━━━━━━━━━━━━━━━━━━\u001b[0m \u001b[32m302.8/302.8 kB\u001b[0m \u001b[31m34.9 MB/s\u001b[0m eta \u001b[36m0:00:00\u001b[0m\n",
            "\u001b[?25hRequirement already satisfied: requests>=2.16.0 in /usr/local/lib/python3.10/dist-packages (from web3) (2.31.0)\n",
            "Requirement already satisfied: typing-extensions>=4.0.1 in /usr/local/lib/python3.10/dist-packages (from web3) (4.11.0)\n",
            "Collecting websockets>=10.0.0 (from web3)\n",
            "  Downloading websockets-12.0-cp310-cp310-manylinux_2_5_x86_64.manylinux1_x86_64.manylinux_2_17_x86_64.manylinux2014_x86_64.whl (130 kB)\n",
            "\u001b[2K     \u001b[90m━━━━━━━━━━━━━━━━━━━━━━━━━━━━━━━━━━━━━━━━\u001b[0m \u001b[32m130.2/130.2 kB\u001b[0m \u001b[31m15.7 MB/s\u001b[0m eta \u001b[36m0:00:00\u001b[0m\n",
            "\u001b[?25hCollecting pyunormalize>=15.0.0 (from web3)\n",
            "  Downloading pyunormalize-15.1.0.tar.gz (515 kB)\n",
            "\u001b[2K     \u001b[90m━━━━━━━━━━━━━━━━━━━━━━━━━━━━━━━━━━━━━━━━\u001b[0m \u001b[32m515.5/515.5 kB\u001b[0m \u001b[31m40.6 MB/s\u001b[0m eta \u001b[36m0:00:00\u001b[0m\n",
            "\u001b[?25h  Preparing metadata (setup.py) ... \u001b[?25l\u001b[?25hdone\n",
            "Requirement already satisfied: aiosignal>=1.1.2 in /usr/local/lib/python3.10/dist-packages (from aiohttp>=3.7.4.post0->web3) (1.3.1)\n",
            "Requirement already satisfied: attrs>=17.3.0 in /usr/local/lib/python3.10/dist-packages (from aiohttp>=3.7.4.post0->web3) (23.2.0)\n",
            "Requirement already satisfied: frozenlist>=1.1.1 in /usr/local/lib/python3.10/dist-packages (from aiohttp>=3.7.4.post0->web3) (1.4.1)\n",
            "Requirement already satisfied: multidict<7.0,>=4.5 in /usr/local/lib/python3.10/dist-packages (from aiohttp>=3.7.4.post0->web3) (6.0.5)\n",
            "Requirement already satisfied: yarl<2.0,>=1.0 in /usr/local/lib/python3.10/dist-packages (from aiohttp>=3.7.4.post0->web3) (1.9.4)\n",
            "Requirement already satisfied: async-timeout<5.0,>=4.0 in /usr/local/lib/python3.10/dist-packages (from aiohttp>=3.7.4.post0->web3) (4.0.3)\n",
            "Collecting parsimonious<0.11.0,>=0.10.0 (from eth-abi>=4.0.0->web3)\n",
            "  Downloading parsimonious-0.10.0-py3-none-any.whl (48 kB)\n",
            "\u001b[2K     \u001b[90m━━━━━━━━━━━━━━━━━━━━━━━━━━━━━━━━━━━━━━━━\u001b[0m \u001b[32m48.4/48.4 kB\u001b[0m \u001b[31m6.3 MB/s\u001b[0m eta \u001b[36m0:00:00\u001b[0m\n",
            "\u001b[?25hCollecting bitarray>=2.4.0 (from eth-account<0.13,>=0.8.0->web3)\n",
            "  Downloading bitarray-2.9.2-cp310-cp310-manylinux_2_17_x86_64.manylinux2014_x86_64.whl (288 kB)\n",
            "\u001b[2K     \u001b[90m━━━━━━━━━━━━━━━━━━━━━━━━━━━━━━━━━━━━━━━━\u001b[0m \u001b[32m288.3/288.3 kB\u001b[0m \u001b[31m32.4 MB/s\u001b[0m eta \u001b[36m0:00:00\u001b[0m\n",
            "\u001b[?25hCollecting eth-keyfile>=0.6.0 (from eth-account<0.13,>=0.8.0->web3)\n",
            "  Downloading eth_keyfile-0.8.1-py3-none-any.whl (7.5 kB)\n",
            "Collecting eth-keys>=0.4.0 (from eth-account<0.13,>=0.8.0->web3)\n",
            "  Downloading eth_keys-0.5.1-py3-none-any.whl (21 kB)\n",
            "Collecting eth-rlp>=2.1.0 (from eth-account<0.13,>=0.8.0->web3)\n",
            "  Downloading eth_rlp-2.1.0-py3-none-any.whl (5.1 kB)\n",
            "INFO: pip is looking at multiple versions of eth-account to determine which version is compatible with other requirements. This could take a while.\n",
            "Collecting eth-account<0.13,>=0.8.0 (from web3)\n",
            "  Downloading eth_account-0.12.1-py3-none-any.whl (355 kB)\n",
            "\u001b[2K     \u001b[90m━━━━━━━━━━━━━━━━━━━━━━━━━━━━━━━━━━━━━━━━\u001b[0m \u001b[32m355.1/355.1 kB\u001b[0m \u001b[31m26.8 MB/s\u001b[0m eta \u001b[36m0:00:00\u001b[0m\n",
            "\u001b[?25h  Downloading eth_account-0.12.0-py3-none-any.whl (354 kB)\n",
            "\u001b[2K     \u001b[90m━━━━━━━━━━━━━━━━━━━━━━━━━━━━━━━━━━━━━━━━\u001b[0m \u001b[32m354.9/354.9 kB\u001b[0m \u001b[31m20.6 MB/s\u001b[0m eta \u001b[36m0:00:00\u001b[0m\n",
            "\u001b[?25h  Downloading eth_account-0.11.2-py3-none-any.whl (355 kB)\n",
            "\u001b[2K     \u001b[90m━━━━━━━━━━━━━━━━━━━━━━━━━━━━━━━━━━━━━━━━\u001b[0m \u001b[32m355.4/355.4 kB\u001b[0m \u001b[31m17.9 MB/s\u001b[0m eta \u001b[36m0:00:00\u001b[0m\n",
            "\u001b[?25hCollecting rlp>=1.0.0 (from eth-account<0.13,>=0.8.0->web3)\n",
            "  Downloading rlp-4.0.1-py3-none-any.whl (20 kB)\n",
            "Collecting ckzg>=0.4.3 (from eth-account<0.13,>=0.8.0->web3)\n",
            "  Downloading ckzg-1.0.1-cp310-cp310-manylinux_2_17_x86_64.manylinux2014_x86_64.whl (139 kB)\n",
            "\u001b[2K     \u001b[90m━━━━━━━━━━━━━━━━━━━━━━━━━━━━━━━━━━━━━━━━\u001b[0m \u001b[32m139.9/139.9 kB\u001b[0m \u001b[31m15.1 MB/s\u001b[0m eta \u001b[36m0:00:00\u001b[0m\n",
            "\u001b[?25hCollecting pycryptodome<4,>=3.6.6 (from eth-hash[pycryptodome]>=0.5.1->web3)\n",
            "  Downloading pycryptodome-3.20.0-cp35-abi3-manylinux_2_17_x86_64.manylinux2014_x86_64.whl (2.1 MB)\n",
            "\u001b[2K     \u001b[90m━━━━━━━━━━━━━━━━━━━━━━━━━━━━━━━━━━━━━━━━\u001b[0m \u001b[32m2.1/2.1 MB\u001b[0m \u001b[31m51.3 MB/s\u001b[0m eta \u001b[36m0:00:00\u001b[0m\n",
            "\u001b[?25hCollecting cytoolz>=0.10.1 (from eth-utils>=2.1.0->web3)\n",
            "  Downloading cytoolz-0.12.3-cp310-cp310-manylinux_2_17_x86_64.manylinux2014_x86_64.whl (2.0 MB)\n",
            "\u001b[2K     \u001b[90m━━━━━━━━━━━━━━━━━━━━━━━━━━━━━━━━━━━━━━━━\u001b[0m \u001b[32m2.0/2.0 MB\u001b[0m \u001b[31m76.6 MB/s\u001b[0m eta \u001b[36m0:00:00\u001b[0m\n",
            "\u001b[?25hRequirement already satisfied: jsonschema-specifications>=2023.03.6 in /usr/local/lib/python3.10/dist-packages (from jsonschema>=4.0.0->web3) (2023.12.1)\n",
            "Requirement already satisfied: referencing>=0.28.4 in /usr/local/lib/python3.10/dist-packages (from jsonschema>=4.0.0->web3) (0.35.0)\n",
            "Requirement already satisfied: rpds-py>=0.7.1 in /usr/local/lib/python3.10/dist-packages (from jsonschema>=4.0.0->web3) (0.18.0)\n",
            "Requirement already satisfied: charset-normalizer<4,>=2 in /usr/local/lib/python3.10/dist-packages (from requests>=2.16.0->web3) (3.3.2)\n",
            "Requirement already satisfied: idna<4,>=2.5 in /usr/local/lib/python3.10/dist-packages (from requests>=2.16.0->web3) (3.7)\n",
            "Requirement already satisfied: urllib3<3,>=1.21.1 in /usr/local/lib/python3.10/dist-packages (from requests>=2.16.0->web3) (2.0.7)\n",
            "Requirement already satisfied: certifi>=2017.4.17 in /usr/local/lib/python3.10/dist-packages (from requests>=2.16.0->web3) (2024.2.2)\n",
            "Requirement already satisfied: toolz>=0.8.0 in /usr/local/lib/python3.10/dist-packages (from cytoolz>=0.10.1->eth-utils>=2.1.0->web3) (0.12.1)\n",
            "INFO: pip is looking at multiple versions of eth-rlp to determine which version is compatible with other requirements. This could take a while.\n",
            "Collecting eth-rlp>=0.3.0 (from eth-account<0.13,>=0.8.0->web3)\n",
            "  Downloading eth_rlp-2.0.0-py3-none-any.whl (5.1 kB)\n",
            "  Downloading eth_rlp-1.0.1-py3-none-any.whl (4.9 kB)\n",
            "Requirement already satisfied: regex>=2022.3.15 in /usr/local/lib/python3.10/dist-packages (from parsimonious<0.11.0,>=0.10.0->eth-abi>=4.0.0->web3) (2023.12.25)\n",
            "Building wheels for collected packages: pyunormalize\n",
            "  Building wheel for pyunormalize (setup.py) ... \u001b[?25l\u001b[?25hdone\n",
            "  Created wheel for pyunormalize: filename=pyunormalize-15.1.0-py3-none-any.whl size=516032 sha256=ed53441701e255b7a83538e86bdf76ca9dab8e84a623c1ad824e2e6cb55f064b\n",
            "  Stored in directory: /root/.cache/pip/wheels/b8/b6/c6/6fc11f58d3fd02f387cf3b18479bb5c6d4143995d0fa401622\n",
            "Successfully built pyunormalize\n",
            "Installing collected packages: lru-dict, ckzg, bitarray, websockets, pyunormalize, pycryptodome, protobuf, parsimonious, hexbytes, eth-typing, eth-hash, cytoolz, eth-utils, rlp, eth-keys, eth-abi, eth-rlp, eth-keyfile, eth-account, web3\n",
            "  Attempting uninstall: protobuf\n",
            "    Found existing installation: protobuf 3.20.3\n",
            "    Uninstalling protobuf-3.20.3:\n",
            "      Successfully uninstalled protobuf-3.20.3\n",
            "\u001b[31mERROR: pip's dependency resolver does not currently take into account all the packages that are installed. This behaviour is the source of the following dependency conflicts.\n",
            "google-ai-generativelanguage 0.6.2 requires protobuf!=3.20.0,!=3.20.1,!=4.21.0,!=4.21.1,!=4.21.2,!=4.21.3,!=4.21.4,!=4.21.5,<5.0.0dev,>=3.19.5, but you have protobuf 5.26.1 which is incompatible.\n",
            "google-api-core 2.11.1 requires protobuf!=3.20.0,!=3.20.1,!=4.21.0,!=4.21.1,!=4.21.2,!=4.21.3,!=4.21.4,!=4.21.5,<5.0.0.dev0,>=3.19.5, but you have protobuf 5.26.1 which is incompatible.\n",
            "google-cloud-aiplatform 1.48.0 requires protobuf!=3.20.0,!=3.20.1,!=4.21.0,!=4.21.1,!=4.21.2,!=4.21.3,!=4.21.4,!=4.21.5,<5.0.0dev,>=3.19.5, but you have protobuf 5.26.1 which is incompatible.\n",
            "google-cloud-bigquery-connection 1.12.1 requires protobuf!=3.20.0,!=3.20.1,!=4.21.0,!=4.21.1,!=4.21.2,!=4.21.3,!=4.21.4,!=4.21.5,<5.0.0dev,>=3.19.5, but you have protobuf 5.26.1 which is incompatible.\n",
            "google-cloud-bigquery-storage 2.24.0 requires protobuf!=3.20.0,!=3.20.1,!=4.21.0,!=4.21.1,!=4.21.2,!=4.21.3,!=4.21.4,!=4.21.5,<5.0.0dev,>=3.19.5, but you have protobuf 5.26.1 which is incompatible.\n",
            "google-cloud-datastore 2.15.2 requires protobuf!=3.20.0,!=3.20.1,!=4.21.0,!=4.21.1,!=4.21.2,!=4.21.3,!=4.21.4,!=4.21.5,<5.0.0dev,>=3.19.5, but you have protobuf 5.26.1 which is incompatible.\n",
            "google-cloud-firestore 2.11.1 requires protobuf!=3.20.0,!=3.20.1,!=4.21.0,!=4.21.1,!=4.21.2,!=4.21.3,!=4.21.4,!=4.21.5,<5.0.0dev,>=3.19.5, but you have protobuf 5.26.1 which is incompatible.\n",
            "google-cloud-functions 1.13.3 requires protobuf!=3.20.0,!=3.20.1,!=4.21.0,!=4.21.1,!=4.21.2,!=4.21.3,!=4.21.4,!=4.21.5,<5.0.0dev,>=3.19.5, but you have protobuf 5.26.1 which is incompatible.\n",
            "google-cloud-iam 2.15.0 requires protobuf!=3.20.0,!=3.20.1,!=4.21.0,!=4.21.1,!=4.21.2,!=4.21.3,!=4.21.4,!=4.21.5,<5.0.0dev,>=3.19.5, but you have protobuf 5.26.1 which is incompatible.\n",
            "google-cloud-language 2.13.3 requires protobuf!=3.20.0,!=3.20.1,!=4.21.0,!=4.21.1,!=4.21.2,!=4.21.3,!=4.21.4,!=4.21.5,<5.0.0dev,>=3.19.5, but you have protobuf 5.26.1 which is incompatible.\n",
            "google-cloud-resource-manager 1.12.3 requires protobuf!=3.20.0,!=3.20.1,!=4.21.0,!=4.21.1,!=4.21.2,!=4.21.3,!=4.21.4,!=4.21.5,<5.0.0dev,>=3.19.5, but you have protobuf 5.26.1 which is incompatible.\n",
            "google-cloud-translate 3.11.3 requires protobuf!=3.20.0,!=3.20.1,!=4.21.0,!=4.21.1,!=4.21.2,!=4.21.3,!=4.21.4,!=4.21.5,<5.0.0dev,>=3.19.5, but you have protobuf 5.26.1 which is incompatible.\n",
            "googleapis-common-protos 1.63.0 requires protobuf!=3.20.0,!=3.20.1,!=4.21.1,!=4.21.2,!=4.21.3,!=4.21.4,!=4.21.5,<5.0.0.dev0,>=3.19.5, but you have protobuf 5.26.1 which is incompatible.\n",
            "grpc-google-iam-v1 0.13.0 requires protobuf!=3.20.0,!=3.20.1,!=4.21.1,!=4.21.2,!=4.21.3,!=4.21.4,!=4.21.5,<5.0.0dev,>=3.19.5, but you have protobuf 5.26.1 which is incompatible.\n",
            "proto-plus 1.23.0 requires protobuf<5.0.0dev,>=3.19.0, but you have protobuf 5.26.1 which is incompatible.\n",
            "tensorflow 2.15.0 requires protobuf!=4.21.0,!=4.21.1,!=4.21.2,!=4.21.3,!=4.21.4,!=4.21.5,<5.0.0dev,>=3.20.3, but you have protobuf 5.26.1 which is incompatible.\n",
            "tensorflow-metadata 1.15.0 requires protobuf<4.21,>=3.20.3; python_version < \"3.11\", but you have protobuf 5.26.1 which is incompatible.\u001b[0m\u001b[31m\n",
            "\u001b[0mSuccessfully installed bitarray-2.9.2 ckzg-1.0.1 cytoolz-0.12.3 eth-abi-5.1.0 eth-account-0.11.2 eth-hash-0.7.0 eth-keyfile-0.8.1 eth-keys-0.5.1 eth-rlp-1.0.1 eth-typing-4.2.2 eth-utils-4.1.0 hexbytes-0.3.1 lru-dict-1.2.0 parsimonious-0.10.0 protobuf-5.26.1 pycryptodome-3.20.0 pyunormalize-15.1.0 rlp-4.0.1 web3-6.18.0 websockets-12.0\n"
          ]
        }
      ]
    },
    {
      "cell_type": "code",
      "source": [
        "!pip install protobuf==3.19.5"
      ],
      "metadata": {
        "colab": {
          "base_uri": "https://localhost:8080/",
          "height": 411
        },
        "id": "Hxtlx5hbD-2y",
        "outputId": "966552a3-d5bc-4ece-c029-c5fc815c1b61"
      },
      "execution_count": 3,
      "outputs": [
        {
          "output_type": "stream",
          "name": "stdout",
          "text": [
            "Collecting protobuf==3.19.5\n",
            "  Downloading protobuf-3.19.5-cp310-cp310-manylinux_2_17_x86_64.manylinux2014_x86_64.whl (1.1 MB)\n",
            "\u001b[2K     \u001b[90m━━━━━━━━━━━━━━━━━━━━━━━━━━━━━━━━━━━━━━━━\u001b[0m \u001b[32m1.1/1.1 MB\u001b[0m \u001b[31m7.4 MB/s\u001b[0m eta \u001b[36m0:00:00\u001b[0m\n",
            "\u001b[?25hInstalling collected packages: protobuf\n",
            "  Attempting uninstall: protobuf\n",
            "    Found existing installation: protobuf 5.26.1\n",
            "    Uninstalling protobuf-5.26.1:\n",
            "      Successfully uninstalled protobuf-5.26.1\n",
            "\u001b[31mERROR: pip's dependency resolver does not currently take into account all the packages that are installed. This behaviour is the source of the following dependency conflicts.\n",
            "tensorboard 2.15.2 requires protobuf!=4.24.0,>=3.19.6, but you have protobuf 3.19.5 which is incompatible.\n",
            "tensorflow 2.15.0 requires protobuf!=4.21.0,!=4.21.1,!=4.21.2,!=4.21.3,!=4.21.4,!=4.21.5,<5.0.0dev,>=3.20.3, but you have protobuf 3.19.5 which is incompatible.\n",
            "tensorflow-datasets 4.9.4 requires protobuf>=3.20, but you have protobuf 3.19.5 which is incompatible.\n",
            "tensorflow-hub 0.16.1 requires protobuf>=3.19.6, but you have protobuf 3.19.5 which is incompatible.\n",
            "tensorflow-metadata 1.15.0 requires protobuf<4.21,>=3.20.3; python_version < \"3.11\", but you have protobuf 3.19.5 which is incompatible.\n",
            "web3 6.18.0 requires protobuf>=4.21.6, but you have protobuf 3.19.5 which is incompatible.\u001b[0m\u001b[31m\n",
            "\u001b[0mSuccessfully installed protobuf-3.19.5\n"
          ]
        },
        {
          "output_type": "display_data",
          "data": {
            "application/vnd.colab-display-data+json": {
              "pip_warning": {
                "packages": [
                  "google"
                ]
              },
              "id": "fe5ab4e621974faaa5774a725113a236"
            }
          },
          "metadata": {}
        }
      ]
    },
    {
      "cell_type": "code",
      "source": [
        "!pip install py-solc-x"
      ],
      "metadata": {
        "colab": {
          "base_uri": "https://localhost:8080/"
        },
        "id": "kqU4Oe3kEAAe",
        "outputId": "be49ee62-cc4d-4a72-e455-9ec8caa4a72c"
      },
      "execution_count": 1,
      "outputs": [
        {
          "output_type": "stream",
          "name": "stdout",
          "text": [
            "Collecting py-solc-x\n",
            "  Downloading py_solc_x-2.0.2-py3-none-any.whl (18 kB)\n",
            "Requirement already satisfied: requests<3,>=2.19.0 in /usr/local/lib/python3.10/dist-packages (from py-solc-x) (2.31.0)\n",
            "Collecting packaging<24,>=23.1 (from py-solc-x)\n",
            "  Downloading packaging-23.2-py3-none-any.whl (53 kB)\n",
            "\u001b[2K     \u001b[90m━━━━━━━━━━━━━━━━━━━━━━━━━━━━━━━━━━━━━━━━\u001b[0m \u001b[32m53.0/53.0 kB\u001b[0m \u001b[31m1.8 MB/s\u001b[0m eta \u001b[36m0:00:00\u001b[0m\n",
            "\u001b[?25hRequirement already satisfied: charset-normalizer<4,>=2 in /usr/local/lib/python3.10/dist-packages (from requests<3,>=2.19.0->py-solc-x) (3.3.2)\n",
            "Requirement already satisfied: idna<4,>=2.5 in /usr/local/lib/python3.10/dist-packages (from requests<3,>=2.19.0->py-solc-x) (3.7)\n",
            "Requirement already satisfied: urllib3<3,>=1.21.1 in /usr/local/lib/python3.10/dist-packages (from requests<3,>=2.19.0->py-solc-x) (2.0.7)\n",
            "Requirement already satisfied: certifi>=2017.4.17 in /usr/local/lib/python3.10/dist-packages (from requests<3,>=2.19.0->py-solc-x) (2024.2.2)\n",
            "Installing collected packages: packaging, py-solc-x\n",
            "  Attempting uninstall: packaging\n",
            "    Found existing installation: packaging 24.0\n",
            "    Uninstalling packaging-24.0:\n",
            "      Successfully uninstalled packaging-24.0\n",
            "\u001b[31mERROR: pip's dependency resolver does not currently take into account all the packages that are installed. This behaviour is the source of the following dependency conflicts.\n",
            "tensorflow 2.15.0 requires protobuf!=4.21.0,!=4.21.1,!=4.21.2,!=4.21.3,!=4.21.4,!=4.21.5,<5.0.0dev,>=3.20.3, but you have protobuf 3.19.5 which is incompatible.\u001b[0m\u001b[31m\n",
            "\u001b[0mSuccessfully installed packaging-23.2 py-solc-x-2.0.2\n"
          ]
        }
      ]
    },
    {
      "cell_type": "code",
      "source": [
        "!pip install \"web3[tester]\""
      ],
      "metadata": {
        "colab": {
          "base_uri": "https://localhost:8080/"
        },
        "id": "mfF27JWe_Et-",
        "outputId": "124879c6-13ff-4dd8-9b79-e9efd4898f06"
      },
      "execution_count": 2,
      "outputs": [
        {
          "output_type": "stream",
          "name": "stdout",
          "text": [
            "Requirement already satisfied: web3[tester] in /usr/local/lib/python3.10/dist-packages (6.18.0)\n",
            "Requirement already satisfied: aiohttp>=3.7.4.post0 in /usr/local/lib/python3.10/dist-packages (from web3[tester]) (3.9.5)\n",
            "Requirement already satisfied: eth-abi>=4.0.0 in /usr/local/lib/python3.10/dist-packages (from web3[tester]) (5.1.0)\n",
            "Requirement already satisfied: eth-account<0.13,>=0.8.0 in /usr/local/lib/python3.10/dist-packages (from web3[tester]) (0.11.2)\n",
            "Requirement already satisfied: eth-hash[pycryptodome]>=0.5.1 in /usr/local/lib/python3.10/dist-packages (from web3[tester]) (0.7.0)\n",
            "Requirement already satisfied: eth-typing!=4.2.0,>=3.0.0 in /usr/local/lib/python3.10/dist-packages (from web3[tester]) (4.2.2)\n",
            "Requirement already satisfied: eth-utils>=2.1.0 in /usr/local/lib/python3.10/dist-packages (from web3[tester]) (4.1.0)\n",
            "Requirement already satisfied: hexbytes<0.4.0,>=0.1.0 in /usr/local/lib/python3.10/dist-packages (from web3[tester]) (0.3.1)\n",
            "Requirement already satisfied: jsonschema>=4.0.0 in /usr/local/lib/python3.10/dist-packages (from web3[tester]) (4.19.2)\n",
            "Requirement already satisfied: lru-dict<1.3.0,>=1.1.6 in /usr/local/lib/python3.10/dist-packages (from web3[tester]) (1.2.0)\n",
            "Collecting protobuf>=4.21.6 (from web3[tester])\n",
            "  Using cached protobuf-5.26.1-cp37-abi3-manylinux2014_x86_64.whl (302 kB)\n",
            "Requirement already satisfied: requests>=2.16.0 in /usr/local/lib/python3.10/dist-packages (from web3[tester]) (2.31.0)\n",
            "Requirement already satisfied: typing-extensions>=4.0.1 in /usr/local/lib/python3.10/dist-packages (from web3[tester]) (4.11.0)\n",
            "Requirement already satisfied: websockets>=10.0.0 in /usr/local/lib/python3.10/dist-packages (from web3[tester]) (12.0)\n",
            "Requirement already satisfied: pyunormalize>=15.0.0 in /usr/local/lib/python3.10/dist-packages (from web3[tester]) (15.1.0)\n",
            "Collecting py-geth>=3.14.0 (from web3[tester])\n",
            "  Downloading py_geth-4.4.0-py3-none-any.whl (24 kB)\n",
            "Collecting eth-tester[py-evm]<0.12.0b1,>=0.11.0b1 (from web3[tester])\n",
            "  Downloading eth_tester-0.11.0b2-py3-none-any.whl (75 kB)\n",
            "\u001b[2K     \u001b[90m━━━━━━━━━━━━━━━━━━━━━━━━━━━━━━━━━━━━━━━━\u001b[0m \u001b[32m75.2/75.2 kB\u001b[0m \u001b[31m2.8 MB/s\u001b[0m eta \u001b[36m0:00:00\u001b[0m\n",
            "\u001b[?25hRequirement already satisfied: aiosignal>=1.1.2 in /usr/local/lib/python3.10/dist-packages (from aiohttp>=3.7.4.post0->web3[tester]) (1.3.1)\n",
            "Requirement already satisfied: attrs>=17.3.0 in /usr/local/lib/python3.10/dist-packages (from aiohttp>=3.7.4.post0->web3[tester]) (23.2.0)\n",
            "Requirement already satisfied: frozenlist>=1.1.1 in /usr/local/lib/python3.10/dist-packages (from aiohttp>=3.7.4.post0->web3[tester]) (1.4.1)\n",
            "Requirement already satisfied: multidict<7.0,>=4.5 in /usr/local/lib/python3.10/dist-packages (from aiohttp>=3.7.4.post0->web3[tester]) (6.0.5)\n",
            "Requirement already satisfied: yarl<2.0,>=1.0 in /usr/local/lib/python3.10/dist-packages (from aiohttp>=3.7.4.post0->web3[tester]) (1.9.4)\n",
            "Requirement already satisfied: async-timeout<5.0,>=4.0 in /usr/local/lib/python3.10/dist-packages (from aiohttp>=3.7.4.post0->web3[tester]) (4.0.3)\n",
            "Requirement already satisfied: parsimonious<0.11.0,>=0.10.0 in /usr/local/lib/python3.10/dist-packages (from eth-abi>=4.0.0->web3[tester]) (0.10.0)\n",
            "Requirement already satisfied: bitarray>=2.4.0 in /usr/local/lib/python3.10/dist-packages (from eth-account<0.13,>=0.8.0->web3[tester]) (2.9.2)\n",
            "Requirement already satisfied: eth-keyfile>=0.6.0 in /usr/local/lib/python3.10/dist-packages (from eth-account<0.13,>=0.8.0->web3[tester]) (0.8.1)\n",
            "Requirement already satisfied: eth-keys>=0.4.0 in /usr/local/lib/python3.10/dist-packages (from eth-account<0.13,>=0.8.0->web3[tester]) (0.5.1)\n",
            "Requirement already satisfied: eth-rlp>=0.3.0 in /usr/local/lib/python3.10/dist-packages (from eth-account<0.13,>=0.8.0->web3[tester]) (1.0.1)\n",
            "Requirement already satisfied: rlp>=1.0.0 in /usr/local/lib/python3.10/dist-packages (from eth-account<0.13,>=0.8.0->web3[tester]) (4.0.1)\n",
            "Requirement already satisfied: ckzg>=0.4.3 in /usr/local/lib/python3.10/dist-packages (from eth-account<0.13,>=0.8.0->web3[tester]) (1.0.1)\n",
            "Requirement already satisfied: pycryptodome<4,>=3.6.6 in /usr/local/lib/python3.10/dist-packages (from eth-hash[pycryptodome]>=0.5.1->web3[tester]) (3.20.0)\n",
            "Collecting semantic-version>=2.6.0 (from eth-tester[py-evm]<0.12.0b1,>=0.11.0b1->web3[tester])\n",
            "  Downloading semantic_version-2.10.0-py2.py3-none-any.whl (15 kB)\n",
            "Collecting py-evm<0.11.0b0,>=0.10.0b0 (from eth-tester[py-evm]<0.12.0b1,>=0.11.0b1->web3[tester])\n",
            "  Downloading py_evm-0.10.1b1-py3-none-any.whl (551 kB)\n",
            "\u001b[2K     \u001b[90m━━━━━━━━━━━━━━━━━━━━━━━━━━━━━━━━━━━━━━━━\u001b[0m \u001b[32m551.3/551.3 kB\u001b[0m \u001b[31m11.6 MB/s\u001b[0m eta \u001b[36m0:00:00\u001b[0m\n",
            "\u001b[?25hRequirement already satisfied: cytoolz>=0.10.1 in /usr/local/lib/python3.10/dist-packages (from eth-utils>=2.1.0->web3[tester]) (0.12.3)\n",
            "Requirement already satisfied: jsonschema-specifications>=2023.03.6 in /usr/local/lib/python3.10/dist-packages (from jsonschema>=4.0.0->web3[tester]) (2023.12.1)\n",
            "Requirement already satisfied: referencing>=0.28.4 in /usr/local/lib/python3.10/dist-packages (from jsonschema>=4.0.0->web3[tester]) (0.35.0)\n",
            "Requirement already satisfied: rpds-py>=0.7.1 in /usr/local/lib/python3.10/dist-packages (from jsonschema>=4.0.0->web3[tester]) (0.18.0)\n",
            "Requirement already satisfied: charset-normalizer<4,>=2 in /usr/local/lib/python3.10/dist-packages (from requests>=2.16.0->web3[tester]) (3.3.2)\n",
            "Requirement already satisfied: idna<4,>=2.5 in /usr/local/lib/python3.10/dist-packages (from requests>=2.16.0->web3[tester]) (3.7)\n",
            "Requirement already satisfied: urllib3<3,>=1.21.1 in /usr/local/lib/python3.10/dist-packages (from requests>=2.16.0->web3[tester]) (2.0.7)\n",
            "Requirement already satisfied: certifi>=2017.4.17 in /usr/local/lib/python3.10/dist-packages (from requests>=2.16.0->web3[tester]) (2024.2.2)\n",
            "Requirement already satisfied: toolz>=0.8.0 in /usr/local/lib/python3.10/dist-packages (from cytoolz>=0.10.1->eth-utils>=2.1.0->web3[tester]) (0.12.1)\n",
            "Collecting safe-pysha3>=1.0.0 (from eth-hash[pycryptodome]>=0.5.1->web3[tester])\n",
            "  Downloading safe-pysha3-1.0.4.tar.gz (827 kB)\n",
            "\u001b[2K     \u001b[90m━━━━━━━━━━━━━━━━━━━━━━━━━━━━━━━━━━━━━━━━\u001b[0m \u001b[32m827.7/827.7 kB\u001b[0m \u001b[31m37.8 MB/s\u001b[0m eta \u001b[36m0:00:00\u001b[0m\n",
            "\u001b[?25h  Preparing metadata (setup.py) ... \u001b[?25l\u001b[?25hdone\n",
            "Requirement already satisfied: regex>=2022.3.15 in /usr/local/lib/python3.10/dist-packages (from parsimonious<0.11.0,>=0.10.0->eth-abi>=4.0.0->web3[tester]) (2023.12.25)\n",
            "Collecting cached-property>=1.5.1 (from py-evm<0.11.0b0,>=0.10.0b0->eth-tester[py-evm]<0.12.0b1,>=0.11.0b1->web3[tester])\n",
            "  Downloading cached_property-1.5.2-py2.py3-none-any.whl (7.6 kB)\n",
            "Collecting eth-bloom>=1.0.3 (from py-evm<0.11.0b0,>=0.10.0b0->eth-tester[py-evm]<0.12.0b1,>=0.11.0b1->web3[tester])\n",
            "  Downloading eth_bloom-3.0.1-py3-none-any.whl (5.7 kB)\n",
            "Collecting py-ecc>=1.4.7 (from py-evm<0.11.0b0,>=0.10.0b0->eth-tester[py-evm]<0.12.0b1,>=0.11.0b1->web3[tester])\n",
            "  Downloading py_ecc-7.0.1-py3-none-any.whl (43 kB)\n",
            "\u001b[2K     \u001b[90m━━━━━━━━━━━━━━━━━━━━━━━━━━━━━━━━━━━━━━━━\u001b[0m \u001b[32m43.3/43.3 kB\u001b[0m \u001b[31m4.9 MB/s\u001b[0m eta \u001b[36m0:00:00\u001b[0m\n",
            "\u001b[?25hCollecting trie>=2.0.0 (from py-evm<0.11.0b0,>=0.10.0b0->eth-tester[py-evm]<0.12.0b1,>=0.11.0b1->web3[tester])\n",
            "  Downloading trie-3.0.1-py3-none-any.whl (38 kB)\n",
            "Requirement already satisfied: sortedcontainers>=2.1.0 in /usr/local/lib/python3.10/dist-packages (from trie>=2.0.0->py-evm<0.11.0b0,>=0.10.0b0->eth-tester[py-evm]<0.12.0b1,>=0.11.0b1->web3[tester]) (2.4.0)\n",
            "Building wheels for collected packages: safe-pysha3\n",
            "  Building wheel for safe-pysha3 (setup.py) ... \u001b[?25l\u001b[?25hdone\n",
            "  Created wheel for safe-pysha3: filename=safe_pysha3-1.0.4-cp310-cp310-linux_x86_64.whl size=146416 sha256=6084cec7616988ef790a09a8da761fedd347613aa924c1023f40d7089c27dd86\n",
            "  Stored in directory: /root/.cache/pip/wheels/1c/86/16/82e0b1ac2d523705fc4ece335af69cd05e6512e4b29222f9c0\n",
            "Successfully built safe-pysha3\n",
            "Installing collected packages: safe-pysha3, cached-property, semantic-version, protobuf, py-geth, eth-bloom, py-ecc, trie, py-evm, eth-tester\n",
            "  Attempting uninstall: protobuf\n",
            "    Found existing installation: protobuf 3.19.5\n",
            "    Uninstalling protobuf-3.19.5:\n",
            "      Successfully uninstalled protobuf-3.19.5\n",
            "\u001b[31mERROR: pip's dependency resolver does not currently take into account all the packages that are installed. This behaviour is the source of the following dependency conflicts.\n",
            "google-ai-generativelanguage 0.6.2 requires protobuf!=3.20.0,!=3.20.1,!=4.21.0,!=4.21.1,!=4.21.2,!=4.21.3,!=4.21.4,!=4.21.5,<5.0.0dev,>=3.19.5, but you have protobuf 5.26.1 which is incompatible.\n",
            "google-api-core 2.11.1 requires protobuf!=3.20.0,!=3.20.1,!=4.21.0,!=4.21.1,!=4.21.2,!=4.21.3,!=4.21.4,!=4.21.5,<5.0.0.dev0,>=3.19.5, but you have protobuf 5.26.1 which is incompatible.\n",
            "google-cloud-aiplatform 1.48.0 requires protobuf!=3.20.0,!=3.20.1,!=4.21.0,!=4.21.1,!=4.21.2,!=4.21.3,!=4.21.4,!=4.21.5,<5.0.0dev,>=3.19.5, but you have protobuf 5.26.1 which is incompatible.\n",
            "google-cloud-bigquery-connection 1.12.1 requires protobuf!=3.20.0,!=3.20.1,!=4.21.0,!=4.21.1,!=4.21.2,!=4.21.3,!=4.21.4,!=4.21.5,<5.0.0dev,>=3.19.5, but you have protobuf 5.26.1 which is incompatible.\n",
            "google-cloud-bigquery-storage 2.24.0 requires protobuf!=3.20.0,!=3.20.1,!=4.21.0,!=4.21.1,!=4.21.2,!=4.21.3,!=4.21.4,!=4.21.5,<5.0.0dev,>=3.19.5, but you have protobuf 5.26.1 which is incompatible.\n",
            "google-cloud-datastore 2.15.2 requires protobuf!=3.20.0,!=3.20.1,!=4.21.0,!=4.21.1,!=4.21.2,!=4.21.3,!=4.21.4,!=4.21.5,<5.0.0dev,>=3.19.5, but you have protobuf 5.26.1 which is incompatible.\n",
            "google-cloud-firestore 2.11.1 requires protobuf!=3.20.0,!=3.20.1,!=4.21.0,!=4.21.1,!=4.21.2,!=4.21.3,!=4.21.4,!=4.21.5,<5.0.0dev,>=3.19.5, but you have protobuf 5.26.1 which is incompatible.\n",
            "google-cloud-functions 1.13.3 requires protobuf!=3.20.0,!=3.20.1,!=4.21.0,!=4.21.1,!=4.21.2,!=4.21.3,!=4.21.4,!=4.21.5,<5.0.0dev,>=3.19.5, but you have protobuf 5.26.1 which is incompatible.\n",
            "google-cloud-iam 2.15.0 requires protobuf!=3.20.0,!=3.20.1,!=4.21.0,!=4.21.1,!=4.21.2,!=4.21.3,!=4.21.4,!=4.21.5,<5.0.0dev,>=3.19.5, but you have protobuf 5.26.1 which is incompatible.\n",
            "google-cloud-language 2.13.3 requires protobuf!=3.20.0,!=3.20.1,!=4.21.0,!=4.21.1,!=4.21.2,!=4.21.3,!=4.21.4,!=4.21.5,<5.0.0dev,>=3.19.5, but you have protobuf 5.26.1 which is incompatible.\n",
            "google-cloud-resource-manager 1.12.3 requires protobuf!=3.20.0,!=3.20.1,!=4.21.0,!=4.21.1,!=4.21.2,!=4.21.3,!=4.21.4,!=4.21.5,<5.0.0dev,>=3.19.5, but you have protobuf 5.26.1 which is incompatible.\n",
            "google-cloud-translate 3.11.3 requires protobuf!=3.20.0,!=3.20.1,!=4.21.0,!=4.21.1,!=4.21.2,!=4.21.3,!=4.21.4,!=4.21.5,<5.0.0dev,>=3.19.5, but you have protobuf 5.26.1 which is incompatible.\n",
            "googleapis-common-protos 1.63.0 requires protobuf!=3.20.0,!=3.20.1,!=4.21.1,!=4.21.2,!=4.21.3,!=4.21.4,!=4.21.5,<5.0.0.dev0,>=3.19.5, but you have protobuf 5.26.1 which is incompatible.\n",
            "grpc-google-iam-v1 0.13.0 requires protobuf!=3.20.0,!=3.20.1,!=4.21.1,!=4.21.2,!=4.21.3,!=4.21.4,!=4.21.5,<5.0.0dev,>=3.19.5, but you have protobuf 5.26.1 which is incompatible.\n",
            "proto-plus 1.23.0 requires protobuf<5.0.0dev,>=3.19.0, but you have protobuf 5.26.1 which is incompatible.\n",
            "tensorflow 2.15.0 requires protobuf!=4.21.0,!=4.21.1,!=4.21.2,!=4.21.3,!=4.21.4,!=4.21.5,<5.0.0dev,>=3.20.3, but you have protobuf 5.26.1 which is incompatible.\n",
            "tensorflow-metadata 1.15.0 requires protobuf<4.21,>=3.20.3; python_version < \"3.11\", but you have protobuf 5.26.1 which is incompatible.\u001b[0m\u001b[31m\n",
            "\u001b[0mSuccessfully installed cached-property-1.5.2 eth-bloom-3.0.1 eth-tester-0.11.0b2 protobuf-5.26.1 py-ecc-7.0.1 py-evm-0.10.1b1 py-geth-4.4.0 safe-pysha3-1.0.4 semantic-version-2.10.0 trie-3.0.1\n"
          ]
        }
      ]
    },
    {
      "cell_type": "code",
      "source": [
        "from web3 import Web3"
      ],
      "metadata": {
        "colab": {
          "base_uri": "https://localhost:8080/"
        },
        "id": "sFzRkGnOEuNE",
        "outputId": "435fa70e-eddf-44ee-a7c2-48ed3c64c5a6"
      },
      "execution_count": 3,
      "outputs": [
        {
          "output_type": "stream",
          "name": "stderr",
          "text": [
            "/usr/local/lib/python3.10/dist-packages/eth_utils/network.py:61: UserWarning: Network 345 with name 'Yooldo Verse Mainnet' does not have a valid ChainId. eth-typing should be updated with the latest networks.\n",
            "  networks = initialize_network_objects()\n",
            "/usr/local/lib/python3.10/dist-packages/eth_utils/network.py:61: UserWarning: Network 12611 with name 'Astar zkEVM' does not have a valid ChainId. eth-typing should be updated with the latest networks.\n",
            "  networks = initialize_network_objects()\n"
          ]
        }
      ]
    },
    {
      "cell_type": "code",
      "source": [
        "w3 = Web3(Web3.EthereumTesterProvider())"
      ],
      "metadata": {
        "colab": {
          "base_uri": "https://localhost:8080/"
        },
        "id": "_iwBhQJf-zcS",
        "outputId": "47a0c389-642b-42c3-8a57-392d22dc0858"
      },
      "execution_count": 4,
      "outputs": [
        {
          "output_type": "stream",
          "name": "stderr",
          "text": [
            "<frozen importlib._bootstrap>:914: ImportWarning: _PyDrive2ImportHook.find_spec() not found; falling back to find_module()\n",
            "<frozen importlib._bootstrap>:914: ImportWarning: _PyDriveImportHook.find_spec() not found; falling back to find_module()\n",
            "<frozen importlib._bootstrap>:914: ImportWarning: _GenerativeAIImportHook.find_spec() not found; falling back to find_module()\n",
            "<frozen importlib._bootstrap>:914: ImportWarning: _OpenCVImportHook.find_spec() not found; falling back to find_module()\n",
            "<frozen importlib._bootstrap>:914: ImportWarning: APICoreClientInfoImportHook.find_spec() not found; falling back to find_module()\n",
            "<frozen importlib._bootstrap>:914: ImportWarning: _BokehImportHook.find_spec() not found; falling back to find_module()\n",
            "<frozen importlib._bootstrap>:914: ImportWarning: _AltairImportHook.find_spec() not found; falling back to find_module()\n"
          ]
        }
      ]
    },
    {
      "cell_type": "code",
      "source": [
        "w3.is_connected()"
      ],
      "metadata": {
        "colab": {
          "base_uri": "https://localhost:8080/"
        },
        "id": "xXF4cLSt-3pv",
        "outputId": "aad5503c-449a-4225-e57e-dfc4d0b01d3d"
      },
      "execution_count": 5,
      "outputs": [
        {
          "output_type": "stream",
          "name": "stderr",
          "text": [
            "/usr/local/lib/python3.10/dist-packages/ipykernel/ipkernel.py:283: DeprecationWarning: `should_run_async` will not call `transform_cell` automatically in the future. Please pass the result to `transformed_cell` argument and any exception that happen during thetransform in `preprocessing_exc_tuple` in IPython 7.17 and above.\n",
            "  and should_run_async(code)\n"
          ]
        },
        {
          "output_type": "execute_result",
          "data": {
            "text/plain": [
              "True"
            ]
          },
          "metadata": {},
          "execution_count": 5
        }
      ]
    },
    {
      "cell_type": "code",
      "source": [
        "w3.eth.accounts"
      ],
      "metadata": {
        "colab": {
          "base_uri": "https://localhost:8080/"
        },
        "id": "o_bV9Ou2-69B",
        "outputId": "2caf1e3d-a3d1-42d7-dfc5-923b36c7daf8"
      },
      "execution_count": 6,
      "outputs": [
        {
          "output_type": "execute_result",
          "data": {
            "text/plain": [
              "['0x7E5F4552091A69125d5DfCb7b8C2659029395Bdf',\n",
              " '0x2B5AD5c4795c026514f8317c7a215E218DcCD6cF',\n",
              " '0x6813Eb9362372EEF6200f3b1dbC3f819671cBA69',\n",
              " '0x1efF47bc3a10a45D4B230B5d10E37751FE6AA718',\n",
              " '0xe1AB8145F7E55DC933d51a18c793F901A3A0b276',\n",
              " '0xE57bFE9F44b819898F47BF37E5AF72a0783e1141',\n",
              " '0xd41c057fd1c78805AAC12B0A94a405c0461A6FBb',\n",
              " '0xF1F6619B38A98d6De0800F1DefC0a6399eB6d30C',\n",
              " '0xF7Edc8FA1eCc32967F827C9043FcAe6ba73afA5c',\n",
              " '0x4CCeBa2d7D2B4fdcE4304d3e09a1fea9fbEb1528']"
            ]
          },
          "metadata": {},
          "execution_count": 6
        }
      ]
    },
    {
      "cell_type": "code",
      "source": [
        "w3.eth.get_balance(w3.eth.accounts[0])"
      ],
      "metadata": {
        "colab": {
          "base_uri": "https://localhost:8080/"
        },
        "id": "ZyFbA-YR_OHB",
        "outputId": "0220a60b-478d-4eea-c1d1-43ba2a5939f8"
      },
      "execution_count": 7,
      "outputs": [
        {
          "output_type": "execute_result",
          "data": {
            "text/plain": [
              "1000000000000000000000000"
            ]
          },
          "metadata": {},
          "execution_count": 7
        }
      ]
    },
    {
      "cell_type": "code",
      "source": [
        "w3.eth.get_block('latest')"
      ],
      "metadata": {
        "colab": {
          "base_uri": "https://localhost:8080/"
        },
        "id": "qCjZn4Vj_Owl",
        "outputId": "d09bc2d8-7bf9-46c0-b35e-d162fc623cfb"
      },
      "execution_count": 8,
      "outputs": [
        {
          "output_type": "execute_result",
          "data": {
            "text/plain": [
              "AttributeDict({'number': 0,\n",
              " 'hash': HexBytes('0xbc101230b0db564f98ed5b30d0ea721a50fa55402bd3b890201bd115065de669'),\n",
              " 'parentHash': HexBytes('0x0000000000000000000000000000000000000000000000000000000000000000'),\n",
              " 'nonce': HexBytes('0x0000000000000000'),\n",
              " 'sha3Uncles': HexBytes('0x1dcc4de8dec75d7aab85b567b6ccd41ad312451b948a7413f0a142fd40d49347'),\n",
              " 'logsBloom': HexBytes('0x00'),\n",
              " 'transactionsRoot': HexBytes('0x56e81f171bcc55a6ff8345e692c0f86e5b48e01b996cadc001622fb5e363b421'),\n",
              " 'receiptsRoot': HexBytes('0x56e81f171bcc55a6ff8345e692c0f86e5b48e01b996cadc001622fb5e363b421'),\n",
              " 'stateRoot': HexBytes('0xf1588db9a9f1ed91effabdec31f93cb4212b008c8b8ba047fd55fabebf6fd727'),\n",
              " 'miner': '0x0000000000000000000000000000000000000000',\n",
              " 'difficulty': 0,\n",
              " 'totalDifficulty': 0,\n",
              " 'mixHash': HexBytes('0x0000000000000000000000000000000000000000000000000000000000000000'),\n",
              " 'size': 583,\n",
              " 'extraData': HexBytes('0x0000000000000000000000000000000000000000000000000000000000000000'),\n",
              " 'gasLimit': 30029122,\n",
              " 'gasUsed': 0,\n",
              " 'timestamp': 1714563768,\n",
              " 'transactions': [],\n",
              " 'uncles': [],\n",
              " 'baseFeePerGas': 1000000000,\n",
              " 'withdrawals': [],\n",
              " 'withdrawalsRoot': HexBytes('0x56e81f171bcc55a6ff8345e692c0f86e5b48e01b996cadc001622fb5e363b421'),\n",
              " 'parentBeaconBlockRoot': HexBytes('0x56e81f171bcc55a6ff8345e692c0f86e5b48e01b996cadc001622fb5e363b421'),\n",
              " 'blobGasUsed': 0,\n",
              " 'excessBlobGas': 0})"
            ]
          },
          "metadata": {},
          "execution_count": 8
        }
      ]
    },
    {
      "cell_type": "code",
      "source": [
        "import solcx"
      ],
      "metadata": {
        "id": "KFP_gKUJBplK"
      },
      "execution_count": 9,
      "outputs": []
    },
    {
      "cell_type": "code",
      "source": [
        "# Check for available versions of solc\n",
        "solcx.get_installable_solc_versions()\n",
        "\n",
        "# Install a specific version of solc, for example:\n",
        "solcx.install_solc(version='0.8.12')  # You can choose any available version\n",
        "\n",
        "# After installing solc, you can compile Solidity contracts\n"
      ],
      "metadata": {
        "colab": {
          "base_uri": "https://localhost:8080/"
        },
        "id": "QI45lmzA6kCY",
        "outputId": "b982a313-b540-4d76-8c5d-25237357c376"
      },
      "execution_count": 10,
      "outputs": [
        {
          "output_type": "stream",
          "name": "stderr",
          "text": [
            "/usr/local/lib/python3.10/dist-packages/solcx/install.py:714: UnexpectedVersionWarning: Installed solc version is v0.8.12+commit.f00d7308, expecting v0.8.12\n",
            "  warnings.warn(\n"
          ]
        },
        {
          "output_type": "execute_result",
          "data": {
            "text/plain": [
              "<Version('0.8.12')>"
            ]
          },
          "metadata": {},
          "execution_count": 10
        }
      ]
    },
    {
      "cell_type": "code",
      "source": [
        "from solcx import compile_source\n",
        "\n",
        "compiled_solidity = compile_source(\n",
        "'''\n",
        "// SPDX-License-Identifier: MIT\n",
        "pragma solidity ^0.8.12;\n",
        "\n",
        "contract HelloWorld {\n",
        "    string public message;\n",
        "\n",
        "    constructor() {\n",
        "        message = \"Hello World\";\n",
        "    }\n",
        "\n",
        "    function setMessage(string memory _message) public {\n",
        "        message = _message;\n",
        "    }\n",
        "\n",
        "    function getMessage() view public returns (string memory){\n",
        "      return message;\n",
        "    }\n",
        "}\n",
        "''',output_values = ['abi','bin']\n",
        ")"
      ],
      "metadata": {
        "id": "ufPMXeBL7Ewm"
      },
      "execution_count": 11,
      "outputs": []
    },
    {
      "cell_type": "code",
      "source": [
        "compiled_solidity"
      ],
      "metadata": {
        "colab": {
          "base_uri": "https://localhost:8080/"
        },
        "id": "GEZuyQRu7myO",
        "outputId": "ec131133-0e5d-46ad-f013-f695ea5d2f18"
      },
      "execution_count": 12,
      "outputs": [
        {
          "output_type": "execute_result",
          "data": {
            "text/plain": [
              "{'<stdin>:HelloWorld': {'abi': [{'inputs': [],\n",
              "    'stateMutability': 'nonpayable',\n",
              "    'type': 'constructor'},\n",
              "   {'inputs': [],\n",
              "    'name': 'getMessage',\n",
              "    'outputs': [{'internalType': 'string', 'name': '', 'type': 'string'}],\n",
              "    'stateMutability': 'view',\n",
              "    'type': 'function'},\n",
              "   {'inputs': [],\n",
              "    'name': 'message',\n",
              "    'outputs': [{'internalType': 'string', 'name': '', 'type': 'string'}],\n",
              "    'stateMutability': 'view',\n",
              "    'type': 'function'},\n",
              "   {'inputs': [{'internalType': 'string',\n",
              "      'name': '_message',\n",
              "      'type': 'string'}],\n",
              "    'name': 'setMessage',\n",
              "    'outputs': [],\n",
              "    'stateMutability': 'nonpayable',\n",
              "    'type': 'function'}],\n",
              "  'bin': '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'}}"
            ]
          },
          "metadata": {},
          "execution_count": 12
        }
      ]
    },
    {
      "cell_type": "code",
      "source": [
        "contract_id, contract_interface = compiled_solidity.popitem()\n",
        "\n",
        "print(contract_id)\n",
        "\n",
        "print(contract_interface)"
      ],
      "metadata": {
        "colab": {
          "base_uri": "https://localhost:8080/"
        },
        "id": "m7ydjgyr7pfG",
        "outputId": "af178a1f-f5aa-4475-823a-c6df7bb8b95d"
      },
      "execution_count": 13,
      "outputs": [
        {
          "output_type": "stream",
          "name": "stdout",
          "text": [
            "<stdin>:HelloWorld\n",
            "{'abi': [{'inputs': [], 'stateMutability': 'nonpayable', 'type': 'constructor'}, {'inputs': [], 'name': 'getMessage', 'outputs': [{'internalType': 'string', 'name': '', 'type': 'string'}], 'stateMutability': 'view', 'type': 'function'}, {'inputs': [], 'name': 'message', 'outputs': [{'internalType': 'string', 'name': '', 'type': 'string'}], 'stateMutability': 'view', 'type': 'function'}, {'inputs': [{'internalType': 'string', 'name': '_message', 'type': 'string'}], 'name': 'setMessage', 'outputs': [], 'stateMutability': 'nonpayable', 'type': 'function'}], 'bin': '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'}\n"
          ]
        }
      ]
    },
    {
      "cell_type": "code",
      "source": [
        "contract_interface['abi']"
      ],
      "metadata": {
        "colab": {
          "base_uri": "https://localhost:8080/"
        },
        "id": "gBzAM9Yt96J-",
        "outputId": "96cf8133-de8e-48e4-b8fc-18f9470c1aac"
      },
      "execution_count": 14,
      "outputs": [
        {
          "output_type": "execute_result",
          "data": {
            "text/plain": [
              "[{'inputs': [], 'stateMutability': 'nonpayable', 'type': 'constructor'},\n",
              " {'inputs': [],\n",
              "  'name': 'getMessage',\n",
              "  'outputs': [{'internalType': 'string', 'name': '', 'type': 'string'}],\n",
              "  'stateMutability': 'view',\n",
              "  'type': 'function'},\n",
              " {'inputs': [],\n",
              "  'name': 'message',\n",
              "  'outputs': [{'internalType': 'string', 'name': '', 'type': 'string'}],\n",
              "  'stateMutability': 'view',\n",
              "  'type': 'function'},\n",
              " {'inputs': [{'internalType': 'string', 'name': '_message', 'type': 'string'}],\n",
              "  'name': 'setMessage',\n",
              "  'outputs': [],\n",
              "  'stateMutability': 'nonpayable',\n",
              "  'type': 'function'}]"
            ]
          },
          "metadata": {},
          "execution_count": 14
        }
      ]
    },
    {
      "cell_type": "code",
      "source": [
        "contract_interface['bin']"
      ],
      "metadata": {
        "colab": {
          "base_uri": "https://localhost:8080/",
          "height": 140
        },
        "id": "a2xBUu3e99oN",
        "outputId": "10d0bfea-ed73-4984-e875-2e51086133ac"
      },
      "execution_count": 15,
      "outputs": [
        {
          "output_type": "execute_result",
          "data": {
            "text/plain": [
              "'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'"
            ],
            "application/vnd.google.colaboratory.intrinsic+json": {
              "type": "string"
            }
          },
          "metadata": {},
          "execution_count": 15
        }
      ]
    },
    {
      "cell_type": "code",
      "source": [
        "w3.eth.default_account = w3.eth.accounts[0]\n",
        "\n",
        "abi = contract_interface['abi']\n",
        "\n",
        "bytecode = contract_interface['bin']\n",
        "\n",
        "myContract = w3.eth.contract(abi = abi, bytecode = bytecode)\n",
        "\n",
        "myContract"
      ],
      "metadata": {
        "colab": {
          "base_uri": "https://localhost:8080/",
          "height": 187
        },
        "id": "BDlI3Va49_Al",
        "outputId": "4f80b9c5-b6d4-4bff-e15d-0a5de8044a26"
      },
      "execution_count": 16,
      "outputs": [
        {
          "output_type": "execute_result",
          "data": {
            "text/plain": [
              "web3._utils.datatypes.Contract"
            ],
            "text/html": [
              "<div style=\"max-width:800px; border: 1px solid var(--colab-border-color);\"><style>\n",
              "      pre.function-repr-contents {\n",
              "        overflow-x: auto;\n",
              "        padding: 8px 12px;\n",
              "        max-height: 500px;\n",
              "      }\n",
              "\n",
              "      pre.function-repr-contents.function-repr-contents-collapsed {\n",
              "        cursor: pointer;\n",
              "        max-height: 100px;\n",
              "      }\n",
              "    </style>\n",
              "    <pre style=\"white-space: initial; background:\n",
              "         var(--colab-secondary-surface-color); padding: 8px 12px;\n",
              "         border-bottom: 1px solid var(--colab-border-color);\"><b>web3._utils.datatypes.Contract</b><br/>def __init__(address: Optional[ChecksumAddress]=None) -&gt; None</pre><pre class=\"function-repr-contents function-repr-contents-collapsed\" style=\"\"><a class=\"filepath\" style=\"display:none\" href=\"#\">/usr/local/lib/python3.10/dist-packages/web3/_utils/datatypes.py</a>Base class for Contract proxy classes.\n",
              "\n",
              "First you need to create your Contract classes using\n",
              ":meth:`web3.eth.Eth.contract` that takes compiled Solidity contract\n",
              "ABI definitions as input.  The created class object will be a subclass of\n",
              "this base class.\n",
              "\n",
              "After you have your Contract proxy class created you can interact with\n",
              "smart contracts\n",
              "\n",
              "* Create a Contract proxy object for an existing deployed smart contract by\n",
              "  its address using :meth:`__init__`\n",
              "\n",
              "* Deploy a new smart contract using :py:meth:`Contract.constructor.transact()`</pre>\n",
              "      <script>\n",
              "      if (google.colab.kernel.accessAllowed && google.colab.files && google.colab.files.view) {\n",
              "        for (const element of document.querySelectorAll('.filepath')) {\n",
              "          element.style.display = 'block'\n",
              "          element.onclick = (event) => {\n",
              "            event.preventDefault();\n",
              "            event.stopPropagation();\n",
              "            google.colab.files.view(element.textContent, None);\n",
              "          };\n",
              "        }\n",
              "      }\n",
              "      for (const element of document.querySelectorAll('.function-repr-contents')) {\n",
              "        element.onclick = (event) => {\n",
              "          event.preventDefault();\n",
              "          event.stopPropagation();\n",
              "          element.classList.toggle('function-repr-contents-collapsed');\n",
              "        };\n",
              "      }\n",
              "      </script>\n",
              "      </div>"
            ]
          },
          "metadata": {},
          "execution_count": 16
        }
      ]
    },
    {
      "cell_type": "code",
      "source": [
        "transaction_hash = myContract.constructor().transact()\n",
        "\n",
        "transaction_hash"
      ],
      "metadata": {
        "colab": {
          "base_uri": "https://localhost:8080/"
        },
        "id": "wgzbrw2Z-o9x",
        "outputId": "4d3c5086-a2a5-4d39-8121-4d50e5b5cfdb"
      },
      "execution_count": 17,
      "outputs": [
        {
          "output_type": "execute_result",
          "data": {
            "text/plain": [
              "HexBytes('0x53ab06f62b6e22fb0f6dd6bc3865fa9f8fde8f491990a13a5c3775914084522c')"
            ]
          },
          "metadata": {},
          "execution_count": 17
        }
      ]
    },
    {
      "cell_type": "code",
      "source": [
        "transaction_receipt = w3.eth.wait_for_transaction_receipt(transaction_hash)\n",
        "\n",
        "transaction_receipt"
      ],
      "metadata": {
        "colab": {
          "base_uri": "https://localhost:8080/"
        },
        "id": "9eqrwwqaCDMQ",
        "outputId": "efd0c368-c984-4bd5-b9a7-a98da6d048f9"
      },
      "execution_count": 18,
      "outputs": [
        {
          "output_type": "execute_result",
          "data": {
            "text/plain": [
              "AttributeDict({'blockHash': HexBytes('0x30f0fabd0ee6f7178dae1b87e436e0e4950f3f4abd2f992b94793ac0d5c65ccc'),\n",
              " 'blockNumber': 1,\n",
              " 'contractAddress': '0xF2E246BB76DF876Cef8b38ae84130F4F55De395b',\n",
              " 'cumulativeGasUsed': 376664,\n",
              " 'effectiveGasPrice': 1000000000,\n",
              " 'from': '0x7E5F4552091A69125d5DfCb7b8C2659029395Bdf',\n",
              " 'gasUsed': 376664,\n",
              " 'logs': [],\n",
              " 'state_root': b'\\x01',\n",
              " 'status': 1,\n",
              " 'to': '',\n",
              " 'transactionHash': HexBytes('0x53ab06f62b6e22fb0f6dd6bc3865fa9f8fde8f491990a13a5c3775914084522c'),\n",
              " 'transactionIndex': 0,\n",
              " 'type': 2})"
            ]
          },
          "metadata": {},
          "execution_count": 18
        }
      ]
    },
    {
      "cell_type": "code",
      "source": [
        "w3.eth.get_balance(w3.eth.accounts[0])"
      ],
      "metadata": {
        "colab": {
          "base_uri": "https://localhost:8080/"
        },
        "id": "C-twvGqgPLaj",
        "outputId": "5ec118c3-2611-4361-dfa3-584d67ad9731"
      },
      "execution_count": 19,
      "outputs": [
        {
          "output_type": "execute_result",
          "data": {
            "text/plain": [
              "999999999623336000000000"
            ]
          },
          "metadata": {},
          "execution_count": 19
        }
      ]
    },
    {
      "cell_type": "code",
      "source": [
        "helloWorldContract = w3.eth.contract(address = transaction_receipt.contractAddress, abi = abi)\n",
        "\n",
        "helloWorldContract"
      ],
      "metadata": {
        "colab": {
          "base_uri": "https://localhost:8080/"
        },
        "id": "Fub8WAivCJzP",
        "outputId": "6e229c71-02e4-4061-e939-27394949a364"
      },
      "execution_count": 20,
      "outputs": [
        {
          "output_type": "execute_result",
          "data": {
            "text/plain": [
              "<web3._utils.datatypes.Contract at 0x7d4451bc4b80>"
            ]
          },
          "metadata": {},
          "execution_count": 20
        }
      ]
    },
    {
      "cell_type": "code",
      "source": [
        "helloWorldContract.functions.getMessage().call()"
      ],
      "metadata": {
        "colab": {
          "base_uri": "https://localhost:8080/",
          "height": 35
        },
        "id": "Qleu5mZDCcwj",
        "outputId": "d5a9dea2-c13b-46f6-94a4-6a90678cb49a"
      },
      "execution_count": 21,
      "outputs": [
        {
          "output_type": "execute_result",
          "data": {
            "text/plain": [
              "'Hello World'"
            ],
            "application/vnd.google.colaboratory.intrinsic+json": {
              "type": "string"
            }
          },
          "metadata": {},
          "execution_count": 21
        }
      ]
    },
    {
      "cell_type": "code",
      "source": [
        "w3.eth.get_balance(w3.eth.accounts[0])"
      ],
      "metadata": {
        "colab": {
          "base_uri": "https://localhost:8080/"
        },
        "id": "zeu_LPZJRyQf",
        "outputId": "53ab5f39-9100-4d6c-faba-30577a8078a7"
      },
      "execution_count": 22,
      "outputs": [
        {
          "output_type": "execute_result",
          "data": {
            "text/plain": [
              "999999999623336000000000"
            ]
          },
          "metadata": {},
          "execution_count": 22
        }
      ]
    },
    {
      "cell_type": "code",
      "source": [
        "by_hash = helloWorldContract.functions.setMessage(\"Hello Solidity\").transact()"
      ],
      "metadata": {
        "id": "7W9s_ZLVCk4g"
      },
      "execution_count": 23,
      "outputs": []
    },
    {
      "cell_type": "code",
      "source": [
        "by_hash"
      ],
      "metadata": {
        "colab": {
          "base_uri": "https://localhost:8080/"
        },
        "id": "bbDthbJXC2Sj",
        "outputId": "26096e3b-5a32-4eeb-e9b6-fe937b4b7f75"
      },
      "execution_count": 24,
      "outputs": [
        {
          "output_type": "execute_result",
          "data": {
            "text/plain": [
              "HexBytes('0x325f4ca19587afe9ba6cea81457c5c88e58d9e8adddfe838db2ca3da9f004574')"
            ]
          },
          "metadata": {},
          "execution_count": 24
        }
      ]
    },
    {
      "cell_type": "code",
      "source": [
        "by_receipt = w3.eth.wait_for_transaction_receipt(by_hash)"
      ],
      "metadata": {
        "id": "2Komn-QVC6Pg"
      },
      "execution_count": 25,
      "outputs": []
    },
    {
      "cell_type": "code",
      "source": [
        "by_receipt"
      ],
      "metadata": {
        "colab": {
          "base_uri": "https://localhost:8080/"
        },
        "id": "oh2NUoLgC9cp",
        "outputId": "57c0d616-f69b-42e0-d3cb-7819740319a2"
      },
      "execution_count": 26,
      "outputs": [
        {
          "output_type": "execute_result",
          "data": {
            "text/plain": [
              "AttributeDict({'blockHash': HexBytes('0x92eec5a3a336099767a3e26c4f2d46a71afea7a53ef88f87cfc1ee2eb0fffe4a'),\n",
              " 'blockNumber': 2,\n",
              " 'contractAddress': None,\n",
              " 'cumulativeGasUsed': 30250,\n",
              " 'effectiveGasPrice': 1000000000,\n",
              " 'from': '0x7E5F4552091A69125d5DfCb7b8C2659029395Bdf',\n",
              " 'gasUsed': 30250,\n",
              " 'logs': [],\n",
              " 'state_root': b'\\x01',\n",
              " 'status': 1,\n",
              " 'to': '0xF2E246BB76DF876Cef8b38ae84130F4F55De395b',\n",
              " 'transactionHash': HexBytes('0x325f4ca19587afe9ba6cea81457c5c88e58d9e8adddfe838db2ca3da9f004574'),\n",
              " 'transactionIndex': 0,\n",
              " 'type': 2})"
            ]
          },
          "metadata": {},
          "execution_count": 26
        }
      ]
    },
    {
      "cell_type": "code",
      "source": [
        "w3.eth.get_balance(w3.eth.accounts[0])"
      ],
      "metadata": {
        "colab": {
          "base_uri": "https://localhost:8080/"
        },
        "id": "sOY-kHTOR69g",
        "outputId": "d093095e-92d9-47c8-9d24-53b55dd6e651"
      },
      "execution_count": 27,
      "outputs": [
        {
          "output_type": "execute_result",
          "data": {
            "text/plain": [
              "999999999593086000000000"
            ]
          },
          "metadata": {},
          "execution_count": 27
        }
      ]
    },
    {
      "cell_type": "code",
      "source": [
        "helloWorldContract.functions.getMessage().call()"
      ],
      "metadata": {
        "colab": {
          "base_uri": "https://localhost:8080/",
          "height": 35
        },
        "id": "SKXbCdj4DAJ9",
        "outputId": "919aef31-d278-485f-9782-ede3699558a4"
      },
      "execution_count": 28,
      "outputs": [
        {
          "output_type": "execute_result",
          "data": {
            "text/plain": [
              "'Hello Solidity'"
            ],
            "application/vnd.google.colaboratory.intrinsic+json": {
              "type": "string"
            }
          },
          "metadata": {},
          "execution_count": 28
        }
      ]
    },
    {
      "cell_type": "code",
      "source": [
        "w3.eth.get_balance(w3.eth.accounts[0])"
      ],
      "metadata": {
        "colab": {
          "base_uri": "https://localhost:8080/"
        },
        "id": "HDqPk6H2G-ZY",
        "outputId": "5f7dcf75-e71e-43b0-de3f-1d0a7b81bc22"
      },
      "execution_count": 29,
      "outputs": [
        {
          "output_type": "execute_result",
          "data": {
            "text/plain": [
              "999999999593086000000000"
            ]
          },
          "metadata": {},
          "execution_count": 29
        }
      ]
    },
    {
      "cell_type": "code",
      "source": [
        "w3.eth.get_block('latest')"
      ],
      "metadata": {
        "colab": {
          "base_uri": "https://localhost:8080/"
        },
        "id": "GZtFi-HQHH6P",
        "outputId": "090579c8-5fab-46cb-de88-2abc0b6665ab"
      },
      "execution_count": 30,
      "outputs": [
        {
          "output_type": "execute_result",
          "data": {
            "text/plain": [
              "AttributeDict({'number': 2,\n",
              " 'hash': HexBytes('0x92eec5a3a336099767a3e26c4f2d46a71afea7a53ef88f87cfc1ee2eb0fffe4a'),\n",
              " 'parentHash': HexBytes('0x30f0fabd0ee6f7178dae1b87e436e0e4950f3f4abd2f992b94793ac0d5c65ccc'),\n",
              " 'nonce': HexBytes('0x0000000000000000'),\n",
              " 'sha3Uncles': HexBytes('0x1dcc4de8dec75d7aab85b567b6ccd41ad312451b948a7413f0a142fd40d49347'),\n",
              " 'logsBloom': HexBytes('0x00'),\n",
              " 'transactionsRoot': HexBytes('0x9edd1f2cb13953a0f262a6b3aeaf3c7c6bbca4d55fea040ac734c065bbd401f7'),\n",
              " 'receiptsRoot': HexBytes('0x808d665b23db097391f53f83a62bc20af627310be8c0c01d3d06db2d9fbbd754'),\n",
              " 'stateRoot': HexBytes('0x79fe268a04efe03703f91d4679536c516bf1c2b75b48f5559b2dddeabfc4b384'),\n",
              " 'miner': '0x0000000000000000000000000000000000000000',\n",
              " 'difficulty': 0,\n",
              " 'totalDifficulty': 0,\n",
              " 'mixHash': HexBytes('0x7a422aa0930e7a6850266d5f544ca6427ac73a5c2a5b5a816558f44a2b259974'),\n",
              " 'size': 805,\n",
              " 'extraData': HexBytes('0x0000000000000000000000000000000000000000000000000000000000000000'),\n",
              " 'gasLimit': 30029122,\n",
              " 'gasUsed': 30250,\n",
              " 'timestamp': 1714563784,\n",
              " 'transactions': [HexBytes('0x325f4ca19587afe9ba6cea81457c5c88e58d9e8adddfe838db2ca3da9f004574')],\n",
              " 'uncles': [],\n",
              " 'baseFeePerGas': 768368845,\n",
              " 'withdrawals': [],\n",
              " 'withdrawalsRoot': HexBytes('0x56e81f171bcc55a6ff8345e692c0f86e5b48e01b996cadc001622fb5e363b421'),\n",
              " 'parentBeaconBlockRoot': HexBytes('0x56e81f171bcc55a6ff8345e692c0f86e5b48e01b996cadc001622fb5e363b421'),\n",
              " 'blobGasUsed': 0,\n",
              " 'excessBlobGas': 0})"
            ]
          },
          "metadata": {},
          "execution_count": 30
        }
      ]
    },
    {
      "cell_type": "code",
      "source": [
        "w3.eth.block_number"
      ],
      "metadata": {
        "colab": {
          "base_uri": "https://localhost:8080/"
        },
        "id": "9UenL5GrHPXG",
        "outputId": "2d18149d-eb9e-4c01-cf09-bd09cdd2916d"
      },
      "execution_count": 31,
      "outputs": [
        {
          "output_type": "execute_result",
          "data": {
            "text/plain": [
              "2"
            ]
          },
          "metadata": {},
          "execution_count": 31
        }
      ]
    },
    {
      "cell_type": "code",
      "source": [
        "w3.eth.get_block(w3.eth.block_number-1)"
      ],
      "metadata": {
        "colab": {
          "base_uri": "https://localhost:8080/"
        },
        "id": "eSt9uVMDHYRf",
        "outputId": "f4938ca9-56f5-4ed8-9575-6c79453fa692"
      },
      "execution_count": 32,
      "outputs": [
        {
          "output_type": "execute_result",
          "data": {
            "text/plain": [
              "AttributeDict({'number': 1,\n",
              " 'hash': HexBytes('0x30f0fabd0ee6f7178dae1b87e436e0e4950f3f4abd2f992b94793ac0d5c65ccc'),\n",
              " 'parentHash': HexBytes('0xbc101230b0db564f98ed5b30d0ea721a50fa55402bd3b890201bd115065de669'),\n",
              " 'nonce': HexBytes('0x0000000000000000'),\n",
              " 'sha3Uncles': HexBytes('0x1dcc4de8dec75d7aab85b567b6ccd41ad312451b948a7413f0a142fd40d49347'),\n",
              " 'logsBloom': HexBytes('0x00'),\n",
              " 'transactionsRoot': HexBytes('0x07fb2ca5062557d39074524b5ca39715a538e054bbb5138cc5790a50a0c98ee3'),\n",
              " 'receiptsRoot': HexBytes('0x88fff1a06237b68495d6b7d15100dd8c434cfa8e07b5c3632437d57ada9f4a34'),\n",
              " 'stateRoot': HexBytes('0x64fbb8b87b21583788805b23d7123c57822aac76a540f66446e360a08a395996'),\n",
              " 'miner': '0x0000000000000000000000000000000000000000',\n",
              " 'difficulty': 0,\n",
              " 'totalDifficulty': 0,\n",
              " 'mixHash': HexBytes('0x61436a07a680f78e5b3c339f10aca26f86dd02769cc0ee635c2ee729d9517ddf'),\n",
              " 'size': 2438,\n",
              " 'extraData': HexBytes('0x0000000000000000000000000000000000000000000000000000000000000000'),\n",
              " 'gasLimit': 30029122,\n",
              " 'gasUsed': 376664,\n",
              " 'timestamp': 1714563769,\n",
              " 'transactions': [HexBytes('0x53ab06f62b6e22fb0f6dd6bc3865fa9f8fde8f491990a13a5c3775914084522c')],\n",
              " 'uncles': [],\n",
              " 'baseFeePerGas': 875000000,\n",
              " 'withdrawals': [],\n",
              " 'withdrawalsRoot': HexBytes('0x56e81f171bcc55a6ff8345e692c0f86e5b48e01b996cadc001622fb5e363b421'),\n",
              " 'parentBeaconBlockRoot': HexBytes('0x56e81f171bcc55a6ff8345e692c0f86e5b48e01b996cadc001622fb5e363b421'),\n",
              " 'blobGasUsed': 0,\n",
              " 'excessBlobGas': 0})"
            ]
          },
          "metadata": {},
          "execution_count": 32
        }
      ]
    },
    {
      "cell_type": "code",
      "source": [
        "w3.eth.get_block(\"earliest\")"
      ],
      "metadata": {
        "colab": {
          "base_uri": "https://localhost:8080/"
        },
        "id": "OqgvkyjGIByf",
        "outputId": "b0277abb-f722-46b0-dee2-49d57ae4605b"
      },
      "execution_count": 33,
      "outputs": [
        {
          "output_type": "execute_result",
          "data": {
            "text/plain": [
              "AttributeDict({'number': 0,\n",
              " 'hash': HexBytes('0xbc101230b0db564f98ed5b30d0ea721a50fa55402bd3b890201bd115065de669'),\n",
              " 'parentHash': HexBytes('0x0000000000000000000000000000000000000000000000000000000000000000'),\n",
              " 'nonce': HexBytes('0x0000000000000000'),\n",
              " 'sha3Uncles': HexBytes('0x1dcc4de8dec75d7aab85b567b6ccd41ad312451b948a7413f0a142fd40d49347'),\n",
              " 'logsBloom': HexBytes('0x00'),\n",
              " 'transactionsRoot': HexBytes('0x56e81f171bcc55a6ff8345e692c0f86e5b48e01b996cadc001622fb5e363b421'),\n",
              " 'receiptsRoot': HexBytes('0x56e81f171bcc55a6ff8345e692c0f86e5b48e01b996cadc001622fb5e363b421'),\n",
              " 'stateRoot': HexBytes('0xf1588db9a9f1ed91effabdec31f93cb4212b008c8b8ba047fd55fabebf6fd727'),\n",
              " 'miner': '0x0000000000000000000000000000000000000000',\n",
              " 'difficulty': 0,\n",
              " 'totalDifficulty': 0,\n",
              " 'mixHash': HexBytes('0x0000000000000000000000000000000000000000000000000000000000000000'),\n",
              " 'size': 583,\n",
              " 'extraData': HexBytes('0x0000000000000000000000000000000000000000000000000000000000000000'),\n",
              " 'gasLimit': 30029122,\n",
              " 'gasUsed': 0,\n",
              " 'timestamp': 1714563768,\n",
              " 'transactions': [],\n",
              " 'uncles': [],\n",
              " 'baseFeePerGas': 1000000000,\n",
              " 'withdrawals': [],\n",
              " 'withdrawalsRoot': HexBytes('0x56e81f171bcc55a6ff8345e692c0f86e5b48e01b996cadc001622fb5e363b421'),\n",
              " 'parentBeaconBlockRoot': HexBytes('0x56e81f171bcc55a6ff8345e692c0f86e5b48e01b996cadc001622fb5e363b421'),\n",
              " 'blobGasUsed': 0,\n",
              " 'excessBlobGas': 0})"
            ]
          },
          "metadata": {},
          "execution_count": 33
        }
      ]
    },
    {
      "cell_type": "code",
      "source": [
        "helloWorldContract.functions.setMessage(\"Python Solidity Basic Interaction\").transact()"
      ],
      "metadata": {
        "colab": {
          "base_uri": "https://localhost:8080/"
        },
        "id": "ZHcmPEmXSNZz",
        "outputId": "df618586-a421-4b46-c0ee-549a8efba0ef"
      },
      "execution_count": 34,
      "outputs": [
        {
          "output_type": "execute_result",
          "data": {
            "text/plain": [
              "HexBytes('0x4055c1a80952d74f3f418900ea2adbcb2b6a3dfc269c67659e2debe279894138')"
            ]
          },
          "metadata": {},
          "execution_count": 34
        }
      ]
    },
    {
      "cell_type": "code",
      "source": [
        "w3.eth.get_balance(w3.eth.accounts[0])"
      ],
      "metadata": {
        "colab": {
          "base_uri": "https://localhost:8080/"
        },
        "id": "6HTFN1Q9Sb1F",
        "outputId": "c2fb2a01-77f4-46a1-f604-ce4c484e09a4"
      },
      "execution_count": 35,
      "outputs": [
        {
          "output_type": "execute_result",
          "data": {
            "text/plain": [
              "999999999520358000000000"
            ]
          },
          "metadata": {},
          "execution_count": 35
        }
      ]
    },
    {
      "cell_type": "code",
      "source": [
        "helloWorldContract.functions.getMessage().call()"
      ],
      "metadata": {
        "colab": {
          "base_uri": "https://localhost:8080/",
          "height": 35
        },
        "id": "GA8fIGbAShdp",
        "outputId": "b5f244cc-d8ee-4e8b-9f24-205599a2a084"
      },
      "execution_count": 36,
      "outputs": [
        {
          "output_type": "execute_result",
          "data": {
            "text/plain": [
              "'Python Solidity Basic Interaction'"
            ],
            "application/vnd.google.colaboratory.intrinsic+json": {
              "type": "string"
            }
          },
          "metadata": {},
          "execution_count": 36
        }
      ]
    },
    {
      "cell_type": "code",
      "source": [
        "w3.eth.get_balance(w3.eth.accounts[0])"
      ],
      "metadata": {
        "colab": {
          "base_uri": "https://localhost:8080/"
        },
        "id": "UJT21IGxTRhI",
        "outputId": "13e8ccc0-b243-463d-da0e-e41e3fce4202"
      },
      "execution_count": 37,
      "outputs": [
        {
          "output_type": "execute_result",
          "data": {
            "text/plain": [
              "999999999520358000000000"
            ]
          },
          "metadata": {},
          "execution_count": 37
        }
      ]
    }
  ]
}