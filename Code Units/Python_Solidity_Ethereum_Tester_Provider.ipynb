{
  "nbformat": 4,
  "nbformat_minor": 0,
  "metadata": {
    "colab": {
      "provenance": []
    },
    "kernelspec": {
      "name": "python3",
      "display_name": "Python 3"
    },
    "language_info": {
      "name": "python"
    }
  },
  "cells": [
    {
      "cell_type": "code",
      "source": [
        "!pip install ipython"
      ],
      "metadata": {
        "colab": {
          "base_uri": "https://localhost:8080/"
        },
        "id": "5KYZivk_AkGe",
        "outputId": "f60f0f96-8af1-45b0-ac32-c07d271722be"
      },
      "execution_count": 1,
      "outputs": [
        {
          "output_type": "stream",
          "name": "stdout",
          "text": [
            "Requirement already satisfied: ipython in /usr/local/lib/python3.10/dist-packages (7.34.0)\n",
            "Requirement already satisfied: setuptools>=18.5 in /usr/local/lib/python3.10/dist-packages (from ipython) (67.7.2)\n",
            "Requirement already satisfied: jedi>=0.16 in /usr/local/lib/python3.10/dist-packages (from ipython) (0.19.1)\n",
            "Requirement already satisfied: decorator in /usr/local/lib/python3.10/dist-packages (from ipython) (4.4.2)\n",
            "Requirement already satisfied: pickleshare in /usr/local/lib/python3.10/dist-packages (from ipython) (0.7.5)\n",
            "Requirement already satisfied: traitlets>=4.2 in /usr/local/lib/python3.10/dist-packages (from ipython) (5.7.1)\n",
            "Requirement already satisfied: prompt-toolkit!=3.0.0,!=3.0.1,<3.1.0,>=2.0.0 in /usr/local/lib/python3.10/dist-packages (from ipython) (3.0.43)\n",
            "Requirement already satisfied: pygments in /usr/local/lib/python3.10/dist-packages (from ipython) (2.16.1)\n",
            "Requirement already satisfied: backcall in /usr/local/lib/python3.10/dist-packages (from ipython) (0.2.0)\n",
            "Requirement already satisfied: matplotlib-inline in /usr/local/lib/python3.10/dist-packages (from ipython) (0.1.7)\n",
            "Requirement already satisfied: pexpect>4.3 in /usr/local/lib/python3.10/dist-packages (from ipython) (4.9.0)\n",
            "Requirement already satisfied: parso<0.9.0,>=0.8.3 in /usr/local/lib/python3.10/dist-packages (from jedi>=0.16->ipython) (0.8.4)\n",
            "Requirement already satisfied: ptyprocess>=0.5 in /usr/local/lib/python3.10/dist-packages (from pexpect>4.3->ipython) (0.7.0)\n",
            "Requirement already satisfied: wcwidth in /usr/local/lib/python3.10/dist-packages (from prompt-toolkit!=3.0.0,!=3.0.1,<3.1.0,>=2.0.0->ipython) (0.2.13)\n"
          ]
        }
      ]
    },
    {
      "cell_type": "code",
      "source": [
        "!pip install web3"
      ],
      "metadata": {
        "colab": {
          "base_uri": "https://localhost:8080/"
        },
        "id": "nA1mkmAfA1Fe",
        "outputId": "a028f330-d2fe-4b61-e26c-07d99bd8d30f"
      },
      "execution_count": 2,
      "outputs": [
        {
          "output_type": "stream",
          "name": "stdout",
          "text": [
            "Requirement already satisfied: web3 in /usr/local/lib/python3.10/dist-packages (6.18.0)\n",
            "Requirement already satisfied: aiohttp>=3.7.4.post0 in /usr/local/lib/python3.10/dist-packages (from web3) (3.9.5)\n",
            "Requirement already satisfied: eth-abi>=4.0.0 in /usr/local/lib/python3.10/dist-packages (from web3) (5.1.0)\n",
            "Requirement already satisfied: eth-account<0.13,>=0.8.0 in /usr/local/lib/python3.10/dist-packages (from web3) (0.11.2)\n",
            "Requirement already satisfied: eth-hash[pycryptodome]>=0.5.1 in /usr/local/lib/python3.10/dist-packages (from web3) (0.7.0)\n",
            "Requirement already satisfied: eth-typing!=4.2.0,>=3.0.0 in /usr/local/lib/python3.10/dist-packages (from web3) (4.2.2)\n",
            "Requirement already satisfied: eth-utils>=2.1.0 in /usr/local/lib/python3.10/dist-packages (from web3) (4.1.0)\n",
            "Requirement already satisfied: hexbytes<0.4.0,>=0.1.0 in /usr/local/lib/python3.10/dist-packages (from web3) (0.3.1)\n",
            "Requirement already satisfied: jsonschema>=4.0.0 in /usr/local/lib/python3.10/dist-packages (from web3) (4.19.2)\n",
            "Requirement already satisfied: lru-dict<1.3.0,>=1.1.6 in /usr/local/lib/python3.10/dist-packages (from web3) (1.2.0)\n",
            "Requirement already satisfied: protobuf>=4.21.6 in /usr/local/lib/python3.10/dist-packages (from web3) (5.26.1)\n",
            "Requirement already satisfied: requests>=2.16.0 in /usr/local/lib/python3.10/dist-packages (from web3) (2.31.0)\n",
            "Requirement already satisfied: typing-extensions>=4.0.1 in /usr/local/lib/python3.10/dist-packages (from web3) (4.11.0)\n",
            "Requirement already satisfied: websockets>=10.0.0 in /usr/local/lib/python3.10/dist-packages (from web3) (12.0)\n",
            "Requirement already satisfied: pyunormalize>=15.0.0 in /usr/local/lib/python3.10/dist-packages (from web3) (15.1.0)\n",
            "Requirement already satisfied: aiosignal>=1.1.2 in /usr/local/lib/python3.10/dist-packages (from aiohttp>=3.7.4.post0->web3) (1.3.1)\n",
            "Requirement already satisfied: attrs>=17.3.0 in /usr/local/lib/python3.10/dist-packages (from aiohttp>=3.7.4.post0->web3) (23.2.0)\n",
            "Requirement already satisfied: frozenlist>=1.1.1 in /usr/local/lib/python3.10/dist-packages (from aiohttp>=3.7.4.post0->web3) (1.4.1)\n",
            "Requirement already satisfied: multidict<7.0,>=4.5 in /usr/local/lib/python3.10/dist-packages (from aiohttp>=3.7.4.post0->web3) (6.0.5)\n",
            "Requirement already satisfied: yarl<2.0,>=1.0 in /usr/local/lib/python3.10/dist-packages (from aiohttp>=3.7.4.post0->web3) (1.9.4)\n",
            "Requirement already satisfied: async-timeout<5.0,>=4.0 in /usr/local/lib/python3.10/dist-packages (from aiohttp>=3.7.4.post0->web3) (4.0.3)\n",
            "Requirement already satisfied: parsimonious<0.11.0,>=0.10.0 in /usr/local/lib/python3.10/dist-packages (from eth-abi>=4.0.0->web3) (0.10.0)\n",
            "Requirement already satisfied: bitarray>=2.4.0 in /usr/local/lib/python3.10/dist-packages (from eth-account<0.13,>=0.8.0->web3) (2.9.2)\n",
            "Requirement already satisfied: eth-keyfile>=0.6.0 in /usr/local/lib/python3.10/dist-packages (from eth-account<0.13,>=0.8.0->web3) (0.8.1)\n",
            "Requirement already satisfied: eth-keys>=0.4.0 in /usr/local/lib/python3.10/dist-packages (from eth-account<0.13,>=0.8.0->web3) (0.5.1)\n",
            "Requirement already satisfied: eth-rlp>=0.3.0 in /usr/local/lib/python3.10/dist-packages (from eth-account<0.13,>=0.8.0->web3) (1.0.1)\n",
            "Requirement already satisfied: rlp>=1.0.0 in /usr/local/lib/python3.10/dist-packages (from eth-account<0.13,>=0.8.0->web3) (4.0.1)\n",
            "Requirement already satisfied: ckzg>=0.4.3 in /usr/local/lib/python3.10/dist-packages (from eth-account<0.13,>=0.8.0->web3) (1.0.1)\n",
            "Requirement already satisfied: pycryptodome<4,>=3.6.6 in /usr/local/lib/python3.10/dist-packages (from eth-hash[pycryptodome]>=0.5.1->web3) (3.20.0)\n",
            "Requirement already satisfied: cytoolz>=0.10.1 in /usr/local/lib/python3.10/dist-packages (from eth-utils>=2.1.0->web3) (0.12.3)\n",
            "Requirement already satisfied: jsonschema-specifications>=2023.03.6 in /usr/local/lib/python3.10/dist-packages (from jsonschema>=4.0.0->web3) (2023.12.1)\n",
            "Requirement already satisfied: referencing>=0.28.4 in /usr/local/lib/python3.10/dist-packages (from jsonschema>=4.0.0->web3) (0.35.0)\n",
            "Requirement already satisfied: rpds-py>=0.7.1 in /usr/local/lib/python3.10/dist-packages (from jsonschema>=4.0.0->web3) (0.18.0)\n",
            "Requirement already satisfied: charset-normalizer<4,>=2 in /usr/local/lib/python3.10/dist-packages (from requests>=2.16.0->web3) (3.3.2)\n",
            "Requirement already satisfied: idna<4,>=2.5 in /usr/local/lib/python3.10/dist-packages (from requests>=2.16.0->web3) (3.7)\n",
            "Requirement already satisfied: urllib3<3,>=1.21.1 in /usr/local/lib/python3.10/dist-packages (from requests>=2.16.0->web3) (2.0.7)\n",
            "Requirement already satisfied: certifi>=2017.4.17 in /usr/local/lib/python3.10/dist-packages (from requests>=2.16.0->web3) (2024.2.2)\n",
            "Requirement already satisfied: toolz>=0.8.0 in /usr/local/lib/python3.10/dist-packages (from cytoolz>=0.10.1->eth-utils>=2.1.0->web3) (0.12.1)\n",
            "Requirement already satisfied: regex>=2022.3.15 in /usr/local/lib/python3.10/dist-packages (from parsimonious<0.11.0,>=0.10.0->eth-abi>=4.0.0->web3) (2023.12.25)\n"
          ]
        }
      ]
    },
    {
      "cell_type": "code",
      "source": [
        "!pip install \"web3[tester]\""
      ],
      "metadata": {
        "colab": {
          "base_uri": "https://localhost:8080/"
        },
        "id": "pl7G_8FdA3vQ",
        "outputId": "d3339f92-2b5b-482e-ce93-dedf2f1b9d8a"
      },
      "execution_count": 3,
      "outputs": [
        {
          "output_type": "stream",
          "name": "stdout",
          "text": [
            "Requirement already satisfied: web3[tester] in /usr/local/lib/python3.10/dist-packages (6.18.0)\n",
            "Requirement already satisfied: aiohttp>=3.7.4.post0 in /usr/local/lib/python3.10/dist-packages (from web3[tester]) (3.9.5)\n",
            "Requirement already satisfied: eth-abi>=4.0.0 in /usr/local/lib/python3.10/dist-packages (from web3[tester]) (5.1.0)\n",
            "Requirement already satisfied: eth-account<0.13,>=0.8.0 in /usr/local/lib/python3.10/dist-packages (from web3[tester]) (0.11.2)\n",
            "Requirement already satisfied: eth-hash[pycryptodome]>=0.5.1 in /usr/local/lib/python3.10/dist-packages (from web3[tester]) (0.7.0)\n",
            "Requirement already satisfied: eth-typing!=4.2.0,>=3.0.0 in /usr/local/lib/python3.10/dist-packages (from web3[tester]) (4.2.2)\n",
            "Requirement already satisfied: eth-utils>=2.1.0 in /usr/local/lib/python3.10/dist-packages (from web3[tester]) (4.1.0)\n",
            "Requirement already satisfied: hexbytes<0.4.0,>=0.1.0 in /usr/local/lib/python3.10/dist-packages (from web3[tester]) (0.3.1)\n",
            "Requirement already satisfied: jsonschema>=4.0.0 in /usr/local/lib/python3.10/dist-packages (from web3[tester]) (4.19.2)\n",
            "Requirement already satisfied: lru-dict<1.3.0,>=1.1.6 in /usr/local/lib/python3.10/dist-packages (from web3[tester]) (1.2.0)\n",
            "Requirement already satisfied: protobuf>=4.21.6 in /usr/local/lib/python3.10/dist-packages (from web3[tester]) (5.26.1)\n",
            "Requirement already satisfied: requests>=2.16.0 in /usr/local/lib/python3.10/dist-packages (from web3[tester]) (2.31.0)\n",
            "Requirement already satisfied: typing-extensions>=4.0.1 in /usr/local/lib/python3.10/dist-packages (from web3[tester]) (4.11.0)\n",
            "Requirement already satisfied: websockets>=10.0.0 in /usr/local/lib/python3.10/dist-packages (from web3[tester]) (12.0)\n",
            "Requirement already satisfied: pyunormalize>=15.0.0 in /usr/local/lib/python3.10/dist-packages (from web3[tester]) (15.1.0)\n",
            "Requirement already satisfied: py-geth>=3.14.0 in /usr/local/lib/python3.10/dist-packages (from web3[tester]) (4.4.0)\n",
            "Requirement already satisfied: eth-tester[py-evm]<0.12.0b1,>=0.11.0b1 in /usr/local/lib/python3.10/dist-packages (from web3[tester]) (0.11.0b2)\n",
            "Requirement already satisfied: aiosignal>=1.1.2 in /usr/local/lib/python3.10/dist-packages (from aiohttp>=3.7.4.post0->web3[tester]) (1.3.1)\n",
            "Requirement already satisfied: attrs>=17.3.0 in /usr/local/lib/python3.10/dist-packages (from aiohttp>=3.7.4.post0->web3[tester]) (23.2.0)\n",
            "Requirement already satisfied: frozenlist>=1.1.1 in /usr/local/lib/python3.10/dist-packages (from aiohttp>=3.7.4.post0->web3[tester]) (1.4.1)\n",
            "Requirement already satisfied: multidict<7.0,>=4.5 in /usr/local/lib/python3.10/dist-packages (from aiohttp>=3.7.4.post0->web3[tester]) (6.0.5)\n",
            "Requirement already satisfied: yarl<2.0,>=1.0 in /usr/local/lib/python3.10/dist-packages (from aiohttp>=3.7.4.post0->web3[tester]) (1.9.4)\n",
            "Requirement already satisfied: async-timeout<5.0,>=4.0 in /usr/local/lib/python3.10/dist-packages (from aiohttp>=3.7.4.post0->web3[tester]) (4.0.3)\n",
            "Requirement already satisfied: parsimonious<0.11.0,>=0.10.0 in /usr/local/lib/python3.10/dist-packages (from eth-abi>=4.0.0->web3[tester]) (0.10.0)\n",
            "Requirement already satisfied: bitarray>=2.4.0 in /usr/local/lib/python3.10/dist-packages (from eth-account<0.13,>=0.8.0->web3[tester]) (2.9.2)\n",
            "Requirement already satisfied: eth-keyfile>=0.6.0 in /usr/local/lib/python3.10/dist-packages (from eth-account<0.13,>=0.8.0->web3[tester]) (0.8.1)\n",
            "Requirement already satisfied: eth-keys>=0.4.0 in /usr/local/lib/python3.10/dist-packages (from eth-account<0.13,>=0.8.0->web3[tester]) (0.5.1)\n",
            "Requirement already satisfied: eth-rlp>=0.3.0 in /usr/local/lib/python3.10/dist-packages (from eth-account<0.13,>=0.8.0->web3[tester]) (1.0.1)\n",
            "Requirement already satisfied: rlp>=1.0.0 in /usr/local/lib/python3.10/dist-packages (from eth-account<0.13,>=0.8.0->web3[tester]) (4.0.1)\n",
            "Requirement already satisfied: ckzg>=0.4.3 in /usr/local/lib/python3.10/dist-packages (from eth-account<0.13,>=0.8.0->web3[tester]) (1.0.1)\n",
            "Requirement already satisfied: pycryptodome<4,>=3.6.6 in /usr/local/lib/python3.10/dist-packages (from eth-hash[pycryptodome]>=0.5.1->web3[tester]) (3.20.0)\n",
            "Requirement already satisfied: semantic-version>=2.6.0 in /usr/local/lib/python3.10/dist-packages (from eth-tester[py-evm]<0.12.0b1,>=0.11.0b1->web3[tester]) (2.10.0)\n",
            "Requirement already satisfied: py-evm<0.11.0b0,>=0.10.0b0 in /usr/local/lib/python3.10/dist-packages (from eth-tester[py-evm]<0.12.0b1,>=0.11.0b1->web3[tester]) (0.10.1b1)\n",
            "Requirement already satisfied: cytoolz>=0.10.1 in /usr/local/lib/python3.10/dist-packages (from eth-utils>=2.1.0->web3[tester]) (0.12.3)\n",
            "Requirement already satisfied: jsonschema-specifications>=2023.03.6 in /usr/local/lib/python3.10/dist-packages (from jsonschema>=4.0.0->web3[tester]) (2023.12.1)\n",
            "Requirement already satisfied: referencing>=0.28.4 in /usr/local/lib/python3.10/dist-packages (from jsonschema>=4.0.0->web3[tester]) (0.35.0)\n",
            "Requirement already satisfied: rpds-py>=0.7.1 in /usr/local/lib/python3.10/dist-packages (from jsonschema>=4.0.0->web3[tester]) (0.18.0)\n",
            "Requirement already satisfied: charset-normalizer<4,>=2 in /usr/local/lib/python3.10/dist-packages (from requests>=2.16.0->web3[tester]) (3.3.2)\n",
            "Requirement already satisfied: idna<4,>=2.5 in /usr/local/lib/python3.10/dist-packages (from requests>=2.16.0->web3[tester]) (3.7)\n",
            "Requirement already satisfied: urllib3<3,>=1.21.1 in /usr/local/lib/python3.10/dist-packages (from requests>=2.16.0->web3[tester]) (2.0.7)\n",
            "Requirement already satisfied: certifi>=2017.4.17 in /usr/local/lib/python3.10/dist-packages (from requests>=2.16.0->web3[tester]) (2024.2.2)\n",
            "Requirement already satisfied: toolz>=0.8.0 in /usr/local/lib/python3.10/dist-packages (from cytoolz>=0.10.1->eth-utils>=2.1.0->web3[tester]) (0.12.1)\n",
            "Requirement already satisfied: safe-pysha3>=1.0.0 in /usr/local/lib/python3.10/dist-packages (from eth-hash[pycryptodome]>=0.5.1->web3[tester]) (1.0.4)\n",
            "Requirement already satisfied: regex>=2022.3.15 in /usr/local/lib/python3.10/dist-packages (from parsimonious<0.11.0,>=0.10.0->eth-abi>=4.0.0->web3[tester]) (2023.12.25)\n",
            "Requirement already satisfied: cached-property>=1.5.1 in /usr/local/lib/python3.10/dist-packages (from py-evm<0.11.0b0,>=0.10.0b0->eth-tester[py-evm]<0.12.0b1,>=0.11.0b1->web3[tester]) (1.5.2)\n",
            "Requirement already satisfied: eth-bloom>=1.0.3 in /usr/local/lib/python3.10/dist-packages (from py-evm<0.11.0b0,>=0.10.0b0->eth-tester[py-evm]<0.12.0b1,>=0.11.0b1->web3[tester]) (3.0.1)\n",
            "Requirement already satisfied: py-ecc>=1.4.7 in /usr/local/lib/python3.10/dist-packages (from py-evm<0.11.0b0,>=0.10.0b0->eth-tester[py-evm]<0.12.0b1,>=0.11.0b1->web3[tester]) (7.0.1)\n",
            "Requirement already satisfied: trie>=2.0.0 in /usr/local/lib/python3.10/dist-packages (from py-evm<0.11.0b0,>=0.10.0b0->eth-tester[py-evm]<0.12.0b1,>=0.11.0b1->web3[tester]) (3.0.1)\n",
            "Requirement already satisfied: sortedcontainers>=2.1.0 in /usr/local/lib/python3.10/dist-packages (from trie>=2.0.0->py-evm<0.11.0b0,>=0.10.0b0->eth-tester[py-evm]<0.12.0b1,>=0.11.0b1->web3[tester]) (2.4.0)\n"
          ]
        }
      ]
    },
    {
      "cell_type": "code",
      "source": [
        "from web3 import Web3"
      ],
      "metadata": {
        "colab": {
          "base_uri": "https://localhost:8080/"
        },
        "id": "45lHMDKFA6ap",
        "outputId": "f2c76f80-32d6-4c55-95e6-1a30dca00c2b"
      },
      "execution_count": 4,
      "outputs": [
        {
          "output_type": "stream",
          "name": "stderr",
          "text": [
            "/usr/local/lib/python3.10/dist-packages/eth_utils/network.py:61: UserWarning: Network 345 with name 'Yooldo Verse Mainnet' does not have a valid ChainId. eth-typing should be updated with the latest networks.\n",
            "  networks = initialize_network_objects()\n",
            "/usr/local/lib/python3.10/dist-packages/eth_utils/network.py:61: UserWarning: Network 12611 with name 'Astar zkEVM' does not have a valid ChainId. eth-typing should be updated with the latest networks.\n",
            "  networks = initialize_network_objects()\n"
          ]
        }
      ]
    },
    {
      "cell_type": "code",
      "source": [
        "w3 = Web3(Web3.EthereumTesterProvider())"
      ],
      "metadata": {
        "colab": {
          "base_uri": "https://localhost:8080/"
        },
        "id": "YigAkRWHA8q4",
        "outputId": "fc7a298a-cecf-4d35-c53b-b96ea3b86458"
      },
      "execution_count": 5,
      "outputs": [
        {
          "output_type": "stream",
          "name": "stderr",
          "text": [
            "<frozen importlib._bootstrap>:914: ImportWarning: _PyDrive2ImportHook.find_spec() not found; falling back to find_module()\n",
            "<frozen importlib._bootstrap>:914: ImportWarning: _PyDriveImportHook.find_spec() not found; falling back to find_module()\n",
            "<frozen importlib._bootstrap>:914: ImportWarning: _GenerativeAIImportHook.find_spec() not found; falling back to find_module()\n",
            "<frozen importlib._bootstrap>:914: ImportWarning: _OpenCVImportHook.find_spec() not found; falling back to find_module()\n",
            "<frozen importlib._bootstrap>:914: ImportWarning: APICoreClientInfoImportHook.find_spec() not found; falling back to find_module()\n",
            "<frozen importlib._bootstrap>:914: ImportWarning: _BokehImportHook.find_spec() not found; falling back to find_module()\n",
            "<frozen importlib._bootstrap>:914: ImportWarning: _AltairImportHook.find_spec() not found; falling back to find_module()\n"
          ]
        }
      ]
    },
    {
      "cell_type": "code",
      "source": [
        "w3.is_connected()"
      ],
      "metadata": {
        "colab": {
          "base_uri": "https://localhost:8080/"
        },
        "id": "XnxZ0wcdA_Cs",
        "outputId": "665bebf3-8ec7-4769-9eff-1c6a4a674a9c"
      },
      "execution_count": 6,
      "outputs": [
        {
          "output_type": "stream",
          "name": "stderr",
          "text": [
            "/usr/local/lib/python3.10/dist-packages/ipykernel/ipkernel.py:283: DeprecationWarning: `should_run_async` will not call `transform_cell` automatically in the future. Please pass the result to `transformed_cell` argument and any exception that happen during thetransform in `preprocessing_exc_tuple` in IPython 7.17 and above.\n",
            "  and should_run_async(code)\n"
          ]
        },
        {
          "output_type": "execute_result",
          "data": {
            "text/plain": [
              "True"
            ]
          },
          "metadata": {},
          "execution_count": 6
        }
      ]
    },
    {
      "cell_type": "code",
      "source": [
        "# This is the contract whose abi and bytecode is been taken from remix ide online by compiling the contract\n",
        "# // SPDX-License-Identifier: MIT\n",
        "# pragma solidity ^0.8.12;\n",
        "\n",
        "# contract HelloWorld {\n",
        "#      string public msg1;\n",
        "\n",
        "#      constructor(string memory user_input) {\n",
        "#          msg1 = user_input;\n",
        "#      }\n",
        "\n",
        "#      function setMessage(string memory _message) public {\n",
        "#          msg1 = _message;\n",
        "#      }\n",
        "\n",
        "#      function getMessage() view public returns (string memory){\n",
        "#        return msg1;\n",
        "#      }\n",
        "#  }"
      ],
      "metadata": {
        "id": "NwfiYbn3BdAO"
      },
      "execution_count": 7,
      "outputs": []
    },
    {
      "cell_type": "code",
      "source": [
        "abi = [\n",
        "\t{\n",
        "\t\t\"inputs\": [\n",
        "\t\t\t{\n",
        "\t\t\t\t\"internalType\": \"string\",\n",
        "\t\t\t\t\"name\": \"user_input\",\n",
        "\t\t\t\t\"type\": \"string\"\n",
        "\t\t\t}\n",
        "\t\t],\n",
        "\t\t\"stateMutability\": \"nonpayable\",\n",
        "\t\t\"type\": \"constructor\"\n",
        "\t},\n",
        "\t{\n",
        "\t\t\"inputs\": [],\n",
        "\t\t\"name\": \"getMessage\",\n",
        "\t\t\"outputs\": [\n",
        "\t\t\t{\n",
        "\t\t\t\t\"internalType\": \"string\",\n",
        "\t\t\t\t\"name\": \"\",\n",
        "\t\t\t\t\"type\": \"string\"\n",
        "\t\t\t}\n",
        "\t\t],\n",
        "\t\t\"stateMutability\": \"view\",\n",
        "\t\t\"type\": \"function\"\n",
        "\t},\n",
        "\t{\n",
        "\t\t\"inputs\": [],\n",
        "\t\t\"name\": \"msg1\",\n",
        "\t\t\"outputs\": [\n",
        "\t\t\t{\n",
        "\t\t\t\t\"internalType\": \"string\",\n",
        "\t\t\t\t\"name\": \"\",\n",
        "\t\t\t\t\"type\": \"string\"\n",
        "\t\t\t}\n",
        "\t\t],\n",
        "\t\t\"stateMutability\": \"view\",\n",
        "\t\t\"type\": \"function\"\n",
        "\t},\n",
        "\t{\n",
        "\t\t\"inputs\": [\n",
        "\t\t\t{\n",
        "\t\t\t\t\"internalType\": \"string\",\n",
        "\t\t\t\t\"name\": \"_message\",\n",
        "\t\t\t\t\"type\": \"string\"\n",
        "\t\t\t}\n",
        "\t\t],\n",
        "\t\t\"name\": \"setMessage\",\n",
        "\t\t\"outputs\": [],\n",
        "\t\t\"stateMutability\": \"nonpayable\",\n",
        "\t\t\"type\": \"function\"\n",
        "\t}\n",
        "]"
      ],
      "metadata": {
        "id": "NS-rF-_OAf0y"
      },
      "execution_count": 8,
      "outputs": []
    },
    {
      "cell_type": "code",
      "source": [
        "bytecode = \"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\""
      ],
      "metadata": {
        "id": "JE4ZJhNnAYTT"
      },
      "execution_count": 9,
      "outputs": []
    },
    {
      "cell_type": "code",
      "execution_count": 10,
      "metadata": {
        "id": "h3ISqfkgAICH"
      },
      "outputs": [],
      "source": [
        "# Instantiate a contract factory:\n",
        "myContract = w3.eth.contract(abi=abi, bytecode=bytecode)"
      ]
    },
    {
      "cell_type": "code",
      "source": [
        "# Deploy an instance of the contract:\n",
        "tx_hash = myContract.constructor(\"Hello\").transact()"
      ],
      "metadata": {
        "id": "4GtgauNRFahd"
      },
      "execution_count": 11,
      "outputs": []
    },
    {
      "cell_type": "code",
      "source": [
        "# Wait for the transaction to be included and get the receipt:\n",
        "tx_receipt = w3.eth.wait_for_transaction_receipt(tx_hash)"
      ],
      "metadata": {
        "id": "DCVI_v8HFYJ3"
      },
      "execution_count": 12,
      "outputs": []
    },
    {
      "cell_type": "code",
      "source": [
        "# Retrieve the deployed contract instance:\n",
        "contractObj1 = w3.eth.contract(address=tx_receipt.contractAddress,abi=abi)"
      ],
      "metadata": {
        "id": "cIG4t2UpGz3S"
      },
      "execution_count": 13,
      "outputs": []
    },
    {
      "cell_type": "code",
      "source": [
        "# Interact with the contract instance:\n",
        "contractObj1.functions.getMessage().call()"
      ],
      "metadata": {
        "colab": {
          "base_uri": "https://localhost:8080/",
          "height": 35
        },
        "id": "oueaeX6FG172",
        "outputId": "d6eb6452-5d28-497a-f4db-bd2f9ecd6998"
      },
      "execution_count": 14,
      "outputs": [
        {
          "output_type": "execute_result",
          "data": {
            "text/plain": [
              "'Hello'"
            ],
            "application/vnd.google.colaboratory.intrinsic+json": {
              "type": "string"
            }
          },
          "metadata": {},
          "execution_count": 14
        }
      ]
    },
    {
      "cell_type": "code",
      "source": [
        "contractObj1.functions.setMessage(\"My First Solidity Code\").transact()\n",
        "\n",
        "contractObj1.functions.getMessage().call()"
      ],
      "metadata": {
        "colab": {
          "base_uri": "https://localhost:8080/",
          "height": 35
        },
        "id": "Xu45yChEG5lJ",
        "outputId": "80d410ee-b5c2-4723-c92a-3ff4d31d1cb8"
      },
      "execution_count": 15,
      "outputs": [
        {
          "output_type": "execute_result",
          "data": {
            "text/plain": [
              "'My First Solidity Code'"
            ],
            "application/vnd.google.colaboratory.intrinsic+json": {
              "type": "string"
            }
          },
          "metadata": {},
          "execution_count": 15
        }
      ]
    },
    {
      "cell_type": "code",
      "source": [
        "contractObj1.functions.setMessage(\"Hello Python\").transact()"
      ],
      "metadata": {
        "colab": {
          "base_uri": "https://localhost:8080/"
        },
        "id": "-_K4WMvHKFVr",
        "outputId": "ea56a06b-af23-4cd2-88f0-28714aa1a374"
      },
      "execution_count": 16,
      "outputs": [
        {
          "output_type": "execute_result",
          "data": {
            "text/plain": [
              "HexBytes('0x7cdb28677db519803cf08b7f3fc291cae64e7f08164fcc372a585dfca4e01d70')"
            ]
          },
          "metadata": {},
          "execution_count": 16
        }
      ]
    },
    {
      "cell_type": "code",
      "source": [
        "contractObj1.functions.msg1().call()"
      ],
      "metadata": {
        "colab": {
          "base_uri": "https://localhost:8080/",
          "height": 35
        },
        "id": "Z_GXt1eXKTpQ",
        "outputId": "788ad219-9c62-425f-9832-fdbe34e44370"
      },
      "execution_count": 17,
      "outputs": [
        {
          "output_type": "execute_result",
          "data": {
            "text/plain": [
              "'Hello Python'"
            ],
            "application/vnd.google.colaboratory.intrinsic+json": {
              "type": "string"
            }
          },
          "metadata": {},
          "execution_count": 17
        }
      ]
    },
    {
      "cell_type": "code",
      "source": [
        "contractObj1.functions.getMessage().call()"
      ],
      "metadata": {
        "colab": {
          "base_uri": "https://localhost:8080/",
          "height": 35
        },
        "id": "VcRyzNP8LpNx",
        "outputId": "08eecede-333c-4c6e-9a75-1de9ededa4ac"
      },
      "execution_count": 18,
      "outputs": [
        {
          "output_type": "execute_result",
          "data": {
            "text/plain": [
              "'Hello Python'"
            ],
            "application/vnd.google.colaboratory.intrinsic+json": {
              "type": "string"
            }
          },
          "metadata": {},
          "execution_count": 18
        }
      ]
    }
  ]
}